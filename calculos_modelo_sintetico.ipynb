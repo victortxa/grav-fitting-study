{
 "cells": [
  {
   "cell_type": "code",
   "execution_count": 1,
   "metadata": {
    "collapsed": true
   },
   "outputs": [],
   "source": [
    "import matplotlib.pyplot as plt\n",
    "%matplotlib inline\n",
    "import numpy as np\n",
    "#fatiando imports\n",
    "from fatiando.gravmag import normal_gravity\n",
    "from fatiando import gridder, utils, mesher\n",
    "from fatiando.gravmag import polyprism, prism\n",
    "from fatiando.mesher import Prism\n",
    "from fatiando.vis import mpl, myv"
   ]
  },
  {
   "cell_type": "code",
   "execution_count": 2,
   "metadata": {
    "collapsed": true
   },
   "outputs": [],
   "source": [
    "#densidade crosta continental\n",
    "rho_c = 2.67\n",
    "# densidade manto\n",
    "rho_m = 3.33\n",
    "# densidade agua\n",
    "rho_w = 1.0"
   ]
  },
  {
   "cell_type": "code",
   "execution_count": 78,
   "metadata": {
    "collapsed": false
   },
   "outputs": [],
   "source": [
    "#comprimento total da area com topografia\n",
    "compr = 500.E3\n",
    "step = 10.E3\n",
    "# criacao do grid com os valores\n",
    "xp = np.arange(-compr/2., compr/2., 10.E3)\n",
    "yp = np.arange(-compr/2., compr/2., 10.E3)\n",
    "xv, yv = np.meshgrid(xp, yp)"
   ]
  },
  {
   "cell_type": "code",
   "execution_count": 65,
   "metadata": {
    "collapsed": false
   },
   "outputs": [
    {
     "data": {
      "text/plain": [
       "[<matplotlib.lines.Line2D at 0x7fc57db14e10>]"
      ]
     },
     "execution_count": 65,
     "metadata": {},
     "output_type": "execute_result"
    },
    {
     "data": {
      "image/png": "[encoded data removed]",
      "text/plain": [
       "<matplotlib.figure.Figure at 0x7fc57dbd3ed0>"
      ]
     },
     "metadata": {},
     "output_type": "display_data"
    }
   ],
   "source": [
    "plt.figure()\n",
    "plt.plot(xv[1,:])"
   ]
  },
  {
   "cell_type": "code",
   "execution_count": 132,
   "metadata": {
    "collapsed": false
   },
   "outputs": [
    {
     "data": {
      "text/plain": [
       "[<matplotlib.lines.Line2D at 0x7fc577e71b50>]"
      ]
     },
     "execution_count": 132,
     "metadata": {},
     "output_type": "execute_result"
    },
    {
     "data": {
      "image/png": "[encoded data removed]",
      "text/plain": [
       "<matplotlib.figure.Figure at 0x7fc577eeb1d0>"
      ]
     },
     "metadata": {},
     "output_type": "display_data"
    }
   ],
   "source": [
    "#zv = np.zeros(xv.shape)\n",
    "\n",
    "sigma = 0.6\n",
    "x_ = xv/(compr/2)\n",
    "zv = 100*(x_/(np.sqrt(2*3.14)*sigma**3))*np.exp( x_**2/(2*sigma**2) )\n",
    "plt.figure()\n",
    "# plot com -zv porque zv>0 aponta para baixo, subsuperficies\n",
    "plt.plot(xv[1,:],-zv[1,:])"
   ]
  },
  {
   "cell_type": "code",
   "execution_count": 134,
   "metadata": {
    "collapsed": false
   },
   "outputs": [
    {
     "data": {
      "text/plain": [
       "[<matplotlib.lines.Line2D at 0x7fc577cd99d0>]"
      ]
     },
     "execution_count": 134,
     "metadata": {},
     "output_type": "execute_result"
    },
    {
     "data": {
      "image/png": "[encoded data removed]",
      "text/plain": [
       "<matplotlib.figure.Figure at 0x7fc577dbd490>"
      ]
     },
     "metadata": {},
     "output_type": "display_data"
    }
   ],
   "source": [
    "# colocando um topo e um fundo para a topografia\n",
    "z_ = zv\n",
    "z_[z_>600] = 600.\n",
    "z_[z_<-600] = -600\n",
    "plt.figure()\n",
    "plt.plot(xv[1,:],-zv[1,:])"
   ]
  },
  {
   "cell_type": "code",
   "execution_count": 141,
   "metadata": {
    "collapsed": false
   },
   "outputs": [],
   "source": [
    "# profundidade moho\n",
    "dmoho = 30.E3\n",
    "########\n",
    "rhocont = rho_c - rho_m\n",
    "rhoocean = rho_m-rho_c\n",
    "prism_list=[]\n",
    "for i in range(z_.shape[0]):\n",
    "    for j in range(z_.shape[1]):\n",
    "        if z_[i,j] <= 0.:\n",
    "            # espessura para compensar a topografia terrestre\n",
    "            r1 = -z_[i,j]*rho_c/(rho_m-rho_c)\n",
    "            rho = rhocont\n",
    "            prism_calc = p_continent = Prism(xv[i,j] - step/2, xv[i,j] + step/2,\n",
    "                                             yv[i,j] - step/2, yv[i,j] + step/2,\n",
    "                                             dmoho, dmoho + r1 , {'density':rhocont})\n",
    "        if z_[i,j] > 0.:\n",
    "            # espessura para compensar oceano\n",
    "            r2 = z_[i,j]*(rho_c - rho_w)/(rho_m - rho_c)\n",
    "            rho = rhoocean\n",
    "            prism_calc = p_continent = Prism(xv[i,j] - step/2, xv[i,j] + step/2,\n",
    "                                             yv[i,j] - step/2, yv[i,j] + step/2,\n",
    "                                             dmoho - r2, dmoho, {'density':rhoocean})\n",
    "        prism_list.append(prism_calc)\n",
    "    "
   ]
  },
  {
   "cell_type": "code",
   "execution_count": 158,
   "metadata": {
    "collapsed": false
   },
   "outputs": [
    {
     "data": {
      "text/plain": [
       "2500"
      ]
     },
     "execution_count": 158,
     "metadata": {},
     "output_type": "execute_result"
    }
   ],
   "source": [
    "len(prism_list)"
   ]
  },
  {
   "cell_type": "code",
   "execution_count": 148,
   "metadata": {
    "collapsed": false
   },
   "outputs": [
    {
     "data": {
      "text/plain": [
       "-600.0"
      ]
     },
     "execution_count": 148,
     "metadata": {},
     "output_type": "execute_result"
    }
   ],
   "source": [
    "z_[1,1]"
   ]
  },
  {
   "cell_type": "code",
   "execution_count": 157,
   "metadata": {
    "collapsed": false
   },
   "outputs": [
    {
     "ename": "AttributeError",
     "evalue": "'Prism' object has no attribute 'getvalue'",
     "output_type": "error",
     "traceback": [
      "\u001b[1;31m---------------------------------------------------------------------------\u001b[0m",
      "\u001b[1;31mAttributeError\u001b[0m                            Traceback (most recent call last)",
      "\u001b[1;32m<ipython-input-157-fa9aa77b1762>\u001b[0m in \u001b[0;36m<module>\u001b[1;34m()\u001b[0m\n\u001b[1;32m----> 1\u001b[1;33m \u001b[0mprism_list\u001b[0m\u001b[1;33m[\u001b[0m\u001b[1;36m0\u001b[0m\u001b[1;33m]\u001b[0m\u001b[1;33m.\u001b[0m\u001b[0mgetvalue\u001b[0m\u001b[1;33m(\u001b[0m\u001b[1;34m'density'\u001b[0m\u001b[1;33m)\u001b[0m\u001b[1;33m\u001b[0m\u001b[0m\n\u001b[0m",
      "\u001b[1;31mAttributeError\u001b[0m: 'Prism' object has no attribute 'getvalue'"
     ]
    }
   ],
   "source": [
    "prism_list[0].getvalue('density')"
   ]
  },
  {
   "cell_type": "code",
   "execution_count": 144,
   "metadata": {
    "collapsed": false
   },
   "outputs": [
    {
     "data": {
      "text/plain": [
       "[-255000.0, -245000.0, -255000.0, -245000.0, 30000.0, 32427.272727272728]"
      ]
     },
     "execution_count": 144,
     "metadata": {},
     "output_type": "execute_result"
    }
   ],
   "source": [
    "prism_list[0].get_bounds()"
   ]
  },
  {
   "cell_type": "code",
   "execution_count": 146,
   "metadata": {
    "collapsed": false
   },
   "outputs": [
    {
     "data": {
      "text/plain": [
       "[-255000.0, -245000.0, -245000.0, -235000.0, 30000.0, 32427.272727272728]"
      ]
     },
     "execution_count": 146,
     "metadata": {},
     "output_type": "execute_result"
    }
   ],
   "source": [
    "prism_list[50].get_bounds()"
   ]
  },
  {
   "cell_type": "code",
   "execution_count": 161,
   "metadata": {
    "collapsed": false
   },
   "outputs": [
    {
     "name": "stdout",
     "output_type": "stream",
     "text": [
      "('X->limite inferior', -250000.0, 'limite superior', 240000.0, 'passo=', 10000.0)\n",
      "('Y->limite inferior', -250000.0, 'limite superior', 240000.0, 'passo=', 10000.0)\n"
     ]
    }
   ],
   "source": [
    "print('X->limite inferior', xp.min(), 'limite superior', xp.max(), 'passo=', step)\n",
    "print('Y->limite inferior', xp.min(), 'limite superior', xp.max(), 'passo=', step)"
   ]
  },
  {
   "cell_type": "code",
   "execution_count": 210,
   "metadata": {
    "collapsed": false
   },
   "outputs": [],
   "source": [
    "# grid onde sera calculado o valor da anomalia\n",
    "xg = xv[5:-5,5:-5]\n",
    "yg = yv[5:-5,5:-5]\n",
    "topo = z_[5:-5,5:-5]"
   ]
  },
  {
   "cell_type": "code",
   "execution_count": 213,
   "metadata": {
    "collapsed": false
   },
   "outputs": [],
   "source": [
    "xg_ = xg.reshape(np.prod(xg.shape))\n",
    "yg_ = yg.reshape(np.prod(yg.shape))\n",
    "topo_ = topo.reshape(np.prod(topo.shape))"
   ]
  },
  {
   "cell_type": "code",
   "execution_count": 215,
   "metadata": {
    "collapsed": false
   },
   "outputs": [],
   "source": [
    "# altura da medicao\n",
    "zp = -3.E3*np.ones(len(xg_))\n",
    "# calculo nos pontos (xp,yp,zp) da componente z de g\n",
    "bouguer = prism.gz(xg_, yg_, zp, prism_list)"
   ]
  },
  {
   "cell_type": "code",
   "execution_count": 220,
   "metadata": {
    "collapsed": false
   },
   "outputs": [
    {
     "data": {
      "text/plain": [
       "<matplotlib.text.Text at 0x7fc5777dd9d0>"
      ]
     },
     "execution_count": 220,
     "metadata": {},
     "output_type": "execute_result"
    },
    {
     "data": {
      "image/png": "[encoded data removed]",
      "text/plain": [
       "<matplotlib.figure.Figure at 0x7fc577893310>"
      ]
     },
     "metadata": {},
     "output_type": "display_data"
    }
   ],
   "source": [
    "plt.figure()\n",
    "plt.plot(-topo_,bouguer,'.')\n",
    "plt.xlabel('Topografia (m)')\n",
    "plt.ylabel('Bouguer')\n",
    "plt.title('Primeiro teste de calculo usando prism.gz')"
   ]
  },
  {
   "cell_type": "markdown",
   "metadata": {},
   "source": [
    "# Teste pegando uma linha para os valores calculados"
   ]
  },
  {
   "cell_type": "code",
   "execution_count": 239,
   "metadata": {
    "collapsed": true
   },
   "outputs": [],
   "source": [
    "xg2_ = xg[20,:]\n",
    "yg2_ = yg[20,:]\n",
    "topo_2 = -topo[1,:]\n",
    "# altura da medicao\n",
    "zp = -3.E3*np.ones(len(xg2_))\n",
    "# calculo nos pontos (xp,yp,zp) da componente z de g\n",
    "bouguer = prism.gz(xg2_, yg2_, zp, prism_list)"
   ]
  },
  {
   "cell_type": "code",
   "execution_count": 240,
   "metadata": {
    "collapsed": false
   },
   "outputs": [
    {
     "data": {
      "text/plain": [
       "<matplotlib.text.Text at 0x7fc5774bb110>"
      ]
     },
     "execution_count": 240,
     "metadata": {},
     "output_type": "execute_result"
    },
    {
     "data": {
      "image/png": "[encoded data removed]",
      "text/plain": [
       "<matplotlib.figure.Figure at 0x7fc577d0ed10>"
      ]
     },
     "metadata": {},
     "output_type": "display_data"
    }
   ],
   "source": [
    "plt.figure()\n",
    "plt.plot(topo_2,bouguer,'.')\n",
    "plt.xlabel('Topografia (m)')\n",
    "plt.ylabel('Bouguer')\n",
    "plt.title('Primeiro teste de calculo usando prism.gz')"
   ]
  },
  {
   "cell_type": "markdown",
   "metadata": {},
   "source": [
    "## Inicio calculo dos coeficientes para 'fitting'"
   ]
  },
  {
   "cell_type": "code",
   "execution_count": 241,
   "metadata": {
    "collapsed": true
   },
   "outputs": [],
   "source": [
    "topo_positive = topo_2[topo_2 >= 0]\n",
    "topo_negative = topo_2[topo_2 < 0]"
   ]
  },
  {
   "cell_type": "code",
   "execution_count": 242,
   "metadata": {
    "collapsed": false
   },
   "outputs": [],
   "source": [
    "jacobian = np.zeros([len(bouguer),2])\n",
    "jacobian[topo_2 < 0, 0] = topo_negative\n",
    "jacobian[topo_2 >= 0, 1] = topo_positive"
   ]
  },
  {
   "cell_type": "code",
   "execution_count": 243,
   "metadata": {
    "collapsed": true
   },
   "outputs": [],
   "source": [
    "y = bouguer"
   ]
  },
  {
   "cell_type": "code",
   "execution_count": 244,
   "metadata": {
    "collapsed": true
   },
   "outputs": [],
   "source": [
    "result=[]\n",
    "weight = np.eye(len(y),len(y))\n",
    "for i in range(10):\n",
    "    aest = np.dot(np.dot(np.linalg.inv(np.dot(jacobian.transpose(),np.dot(weight,jacobian))),jacobian.transpose()),np.dot(weight,y))\n",
    "    result.append(aest)\n",
    "    weight = np.zeros([len(y),len(y)])\n",
    "    np.fill_diagonal(weight,1./((y - np.dot(jacobian,aest))**2)**0.5)"
   ]
  },
  {
   "cell_type": "code",
   "execution_count": 245,
   "metadata": {
    "collapsed": false
   },
   "outputs": [
    {
     "data": {
      "text/plain": [
       "[array([ -5.61137417e-05,  -9.16240027e-05]),\n",
       " array([ -5.65235272e-05,  -9.32652865e-05]),\n",
       " array([ -5.70437271e-05,  -9.41159444e-05]),\n",
       " array([ -5.75638132e-05,  -9.43457611e-05]),\n",
       " array([ -5.79057768e-05,  -9.46519702e-05]),\n",
       " array([ -5.79034855e-05,  -9.50274646e-05]),\n",
       " array([ -5.79013220e-05,  -9.54548225e-05]),\n",
       " array([ -5.78992804e-05,  -9.59100990e-05]),\n",
       " array([ -5.78973549e-05,  -9.63651481e-05]),\n",
       " array([ -5.78955398e-05,  -9.67878435e-05])]"
      ]
     },
     "execution_count": 245,
     "metadata": {},
     "output_type": "execute_result"
    }
   ],
   "source": [
    "result"
   ]
  },
  {
   "cell_type": "code",
   "execution_count": 246,
   "metadata": {
    "collapsed": false
   },
   "outputs": [],
   "source": [
    "y_calc = np.zeros([len(bouguer)])\n",
    "y_calc[topo_2 < 0] = result[9][0]*topo_negative\n",
    "y_calc[topo_2 >= 0] = result[9][1]*topo_positive"
   ]
  },
  {
   "cell_type": "code",
   "execution_count": 247,
   "metadata": {
    "collapsed": false
   },
   "outputs": [
    {
     "data": {
      "text/plain": [
       "<matplotlib.legend.Legend at 0x7fc5773b7cd0>"
      ]
     },
     "execution_count": 247,
     "metadata": {},
     "output_type": "execute_result"
    },
    {
     "data": {
      "image/png": "[encoded data removed]",
      "text/plain": [
       "<matplotlib.figure.Figure at 0x7fc5774515d0>"
      ]
     },
     "metadata": {},
     "output_type": "display_data"
    }
   ],
   "source": [
    "plt.figure()\n",
    "plt.plot(topo_2,bouguer,'.',label='dados originais')\n",
    "plt.plot(topo_2,y_calc,'.r',label='pelo parametro obtido')\n",
    "plt.title('Bouguer x Topografia')\n",
    "plt.xlabel('m')\n",
    "plt.ylabel('Anomalia Bouguer(mgal)')\n",
    "plt.legend()"
   ]
  },
  {
   "cell_type": "code",
   "execution_count": 249,
   "metadata": {
    "collapsed": false
   },
   "outputs": [
    {
     "name": "stderr",
     "output_type": "stream",
     "text": [
      "/home/victor/anaconda/lib/python2.7/site-packages/matplotlib/axes/_axes.py:475: UserWarning: No labelled objects found. Use label='...' kwarg on individual plots.\n",
      "  warnings.warn(\"No labelled objects found. \"\n"
     ]
    },
    {
     "data": {
      "image/png": "[encoded data removed]",
      "text/plain": [
       "<matplotlib.figure.Figure at 0x7fc577338290>"
      ]
     },
     "metadata": {},
     "output_type": "display_data"
    }
   ],
   "source": [
    "plt.figure()\n",
    "plt.plot(topo_2,abs(y_calc - bouguer),'.')\n",
    "plt.title('Erro x Topografia')\n",
    "plt.xlabel('m')\n",
    "plt.ylabel('Erro')\n",
    "plt.legend()"
   ]
  },
  {
   "cell_type": "code",
   "execution_count": null,
   "metadata": {
    "collapsed": true
   },
   "outputs": [],
   "source": []
  }
 ],
 "metadata": {
  "kernelspec": {
   "display_name": "Python 2",
   "language": "python",
   "name": "python2"
  },
  "language_info": {
   "codemirror_mode": {
    "name": "ipython",
    "version": 2
   },
   "file_extension": ".py",
   "mimetype": "text/x-python",
   "name": "python",
   "nbconvert_exporter": "python",
   "pygments_lexer": "ipython2",
   "version": "2.7.10"
  }
 },
 "nbformat": 4,
 "nbformat_minor": 0
}
