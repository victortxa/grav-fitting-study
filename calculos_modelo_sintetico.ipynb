{
 "cells": [
  {
   "cell_type": "code",
   "execution_count": 11,
   "metadata": {
    "collapsed": true
   },
   "outputs": [],
   "source": [
    "import matplotlib.pyplot as plt\n",
    "%matplotlib inline\n",
    "import numpy as np\n",
    "#fatiando imports\n",
    "from fatiando.gravmag import normal_gravity\n",
    "from fatiando import gridder, utils, mesher\n",
    "from fatiando.gravmag import polyprism\n",
    "from fatiando.mesher import Prism\n",
    "from fatiando.vis import mpl, myv"
   ]
  },
  {
   "cell_type": "code",
   "execution_count": 5,
   "metadata": {
    "collapsed": true
   },
   "outputs": [],
   "source": [
    "#densidade crosta continental\n",
    "rho_c = 2.67\n",
    "# densidade manto\n",
    "rho_m = 3.33\n",
    "# densidade agua\n",
    "rho_w = 1.0"
   ]
  },
  {
   "cell_type": "code",
   "execution_count": 6,
   "metadata": {
    "collapsed": true
   },
   "outputs": [],
   "source": [
    "# topografia\n",
    "# altura da 'montanha'\n",
    "h1 = 1.5E3\n",
    "# profundidade do mar\n",
    "d = 1.0E3"
   ]
  },
  {
   "cell_type": "code",
   "execution_count": 7,
   "metadata": {
    "collapsed": true
   },
   "outputs": [],
   "source": [
    "# profundidade moho\n",
    "dmoho = 30.E3\n",
    "# espessura para compensar a topografia terrestre\n",
    "r1 = h1*rho_c/(rho_m-rho_c)\n",
    "# espessura para compensar oceano\n",
    "r2 = d*(rho_c - rho_w)/(rho_m - rho_c)"
   ]
  },
  {
   "cell_type": "code",
   "execution_count": 12,
   "metadata": {
    "collapsed": false
   },
   "outputs": [],
   "source": [
    "#largura dos prismas\n",
    "larg = 2.E3\n",
    "# \n",
    "c_end = 2.E3\n",
    "# prisma correspondente ao continente\n",
    "p_continent = Prism(0, c_end, 0, larg , dmoho, dmoho + r1 , {'density':rho_c-rho_m})\n",
    "# prisma correspondente ao oceano\n",
    "p_ocean = Prism(c_end, c_end + 2.E3, 0, larg, dmoho-r2, dmoho, {'density':rho_m-rho_c})"
   ]
  },
  {
   "cell_type": "code",
   "execution_count": 15,
   "metadata": {
    "collapsed": false
   },
   "outputs": [
    {
     "data": {
      "text/plain": [
       "[0.0, 2000.0, 0.0, 2000.0, 30000.0, 36068.181818181816]"
      ]
     },
     "execution_count": 15,
     "metadata": {},
     "output_type": "execute_result"
    }
   ],
   "source": [
    "p_continent.get_bounds()"
   ]
  },
  {
   "cell_type": "code",
   "execution_count": 16,
   "metadata": {
    "collapsed": false
   },
   "outputs": [
    {
     "data": {
      "text/plain": [
       "[2000.0, 4000.0, 0.0, 2000.0, 27469.69696969697, 30000.0]"
      ]
     },
     "execution_count": 16,
     "metadata": {},
     "output_type": "execute_result"
    }
   ],
   "source": [
    "p_ocean.get_bounds()"
   ]
  },
  {
   "cell_type": "code",
   "execution_count": null,
   "metadata": {
    "collapsed": true
   },
   "outputs": [],
   "source": []
  }
 ],
 "metadata": {
  "kernelspec": {
   "display_name": "Python 2",
   "language": "python",
   "name": "python2"
  },
  "language_info": {
   "codemirror_mode": {
    "name": "ipython",
    "version": 2
   },
   "file_extension": ".py",
   "mimetype": "text/x-python",
   "name": "python",
   "nbconvert_exporter": "python",
   "pygments_lexer": "ipython2",
   "version": "2.7.10"
  }
 },
 "nbformat": 4,
 "nbformat_minor": 0
}
