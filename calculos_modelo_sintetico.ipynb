{
 "cells": [
  {
   "cell_type": "code",
   "execution_count": 1,
   "metadata": {
    "collapsed": true
   },
   "outputs": [],
   "source": [
    "import matplotlib.pyplot as plt\n",
    "%matplotlib inline\n",
    "import numpy as np\n",
    "#fatiando imports\n",
    "from fatiando.gravmag import normal_gravity\n",
    "from fatiando import gridder, utils, mesher\n",
    "from fatiando.gravmag import polyprism, prism\n",
    "from fatiando.mesher import Prism\n",
    "from fatiando.vis import mpl, myv"
   ]
  },
  {
   "cell_type": "code",
   "execution_count": 2,
   "metadata": {
    "collapsed": true
   },
   "outputs": [],
   "source": [
    "#densidade crosta continental\n",
    "rho_c = 2.67\n",
    "# densidade manto\n",
    "rho_m = 3.33\n",
    "# densidade agua\n",
    "rho_w = 1.0"
   ]
  },
  {
   "cell_type": "code",
   "execution_count": 3,
   "metadata": {
    "collapsed": true
   },
   "outputs": [],
   "source": [
    "# topografia\n",
    "# altura da 'montanha'\n",
    "h1 = 1.5E3\n",
    "# profundidade do mar\n",
    "d = 1.0E3"
   ]
  },
  {
   "cell_type": "code",
   "execution_count": 4,
   "metadata": {
    "collapsed": true
   },
   "outputs": [],
   "source": [
    "# profundidade moho\n",
    "dmoho = 30.E3\n",
    "# espessura para compensar a topografia terrestre\n",
    "r1 = h1*rho_c/(rho_m-rho_c)\n",
    "# espessura para compensar oceano\n",
    "r2 = d*(rho_c - rho_w)/(rho_m - rho_c)"
   ]
  },
  {
   "cell_type": "code",
   "execution_count": 5,
   "metadata": {
    "collapsed": false
   },
   "outputs": [],
   "source": [
    "# largura dos prismas\n",
    "larg = 2.E3\n",
    "# \n",
    "c_end = 2.E3\n",
    "# prisma correspondente ao continente\n",
    "p_continent = Prism(0, c_end, 0, larg , dmoho, dmoho + r1 , {'density':rho_c-rho_m})\n",
    "# prisma correspondente ao oceano\n",
    "p_ocean = Prism(c_end, c_end + 2.E3, 0, larg, dmoho-r2, dmoho, {'density':rho_m-rho_c})"
   ]
  },
  {
   "cell_type": "code",
   "execution_count": 6,
   "metadata": {
    "collapsed": false
   },
   "outputs": [
    {
     "data": {
      "text/plain": [
       "[0.0, 2000.0, 0.0, 2000.0, 30000.0, 36068.181818181816]"
      ]
     },
     "execution_count": 6,
     "metadata": {},
     "output_type": "execute_result"
    }
   ],
   "source": [
    "p_continent.get_bounds()"
   ]
  },
  {
   "cell_type": "code",
   "execution_count": 7,
   "metadata": {
    "collapsed": false
   },
   "outputs": [
    {
     "data": {
      "text/plain": [
       "[2000.0, 4000.0, 0.0, 2000.0, 27469.69696969697, 30000.0]"
      ]
     },
     "execution_count": 7,
     "metadata": {},
     "output_type": "execute_result"
    }
   ],
   "source": [
    "p_ocean.get_bounds()"
   ]
  },
  {
   "cell_type": "code",
   "execution_count": 8,
   "metadata": {
    "collapsed": false
   },
   "outputs": [],
   "source": [
    "# ao londo de toda a extensao norte-sul dos prismas\n",
    "xp = np.arange(0., c_end + 2.E3, 10.)\n",
    "# metade da largura dos prismas na direcao y\n",
    "yp = (larg/2)*np.ones(len(xp))\n",
    "# altura da medicao\n",
    "zp = -3.E3*np.ones(len(xp))\n",
    "# calculo nos pontos (xp,yp,zp) da componente z de g\n",
    "bouguer = prism.gz(xp, yp, zp, [p_continent,p_ocean])"
   ]
  },
  {
   "cell_type": "code",
   "execution_count": 9,
   "metadata": {
    "collapsed": false
   },
   "outputs": [
    {
     "data": {
      "text/plain": [
       "<matplotlib.text.Text at 0x7fc57e0d1550>"
      ]
     },
     "execution_count": 9,
     "metadata": {},
     "output_type": "execute_result"
    },
    {
     "data": {
      "image/png": "[encoded data removed]",
      "text/plain": [
       "<matplotlib.figure.Figure at 0x7fc5811ce650>"
      ]
     },
     "metadata": {},
     "output_type": "display_data"
    }
   ],
   "source": [
    "plt.figure()\n",
    "plt.plot(bouguer,'.')\n",
    "plt.title('Primeiro teste de calculo usando prism.gz')"
   ]
  },
  {
   "cell_type": "code",
   "execution_count": 10,
   "metadata": {
    "collapsed": true
   },
   "outputs": [],
   "source": [
    "xp = np.arange(0., c_end + 2.E3, 10.)\n",
    "yp = np.arange(0, larg, 10)\n",
    "xv, yv = np.meshgrid(xp, yp)"
   ]
  },
  {
   "cell_type": "code",
   "execution_count": 14,
   "metadata": {
    "collapsed": true
   },
   "outputs": [],
   "source": [
    "yvv = yv.reshape(400*200)\n",
    "xvv = xv.reshape(400*200)\n",
    "zp = -2.E3*np.ones(400*200)"
   ]
  },
  {
   "cell_type": "code",
   "execution_count": 23,
   "metadata": {
    "collapsed": true
   },
   "outputs": [],
   "source": [
    "xvv = xv[1,:]\n",
    "yvv = yv[1,:]\n",
    "zp = -2.E3*np.ones(len(xvv))"
   ]
  },
  {
   "cell_type": "code",
   "execution_count": 24,
   "metadata": {
    "collapsed": false
   },
   "outputs": [],
   "source": [
    "bouguer2 = prism.gz(xvv, yvv, zp, [p_continent,p_ocean])"
   ]
  },
  {
   "cell_type": "code",
   "execution_count": 25,
   "metadata": {
    "collapsed": false
   },
   "outputs": [
    {
     "data": {
      "text/plain": [
       "<matplotlib.text.Text at 0x7fc57dca48d0>"
      ]
     },
     "execution_count": 25,
     "metadata": {},
     "output_type": "execute_result"
    },
    {
     "data": {
      "image/png": "[encoded data removed]",
      "text/plain": [
       "<matplotlib.figure.Figure at 0x7fc57df47550>"
      ]
     },
     "metadata": {},
     "output_type": "display_data"
    }
   ],
   "source": [
    "plt.figure()\n",
    "plt.plot(bouguer2,'.')\n",
    "plt.title('Teste a partir de meshgrid')"
   ]
  },
  {
   "cell_type": "code",
   "execution_count": 29,
   "metadata": {
    "collapsed": false
   },
   "outputs": [
    {
     "data": {
      "text/plain": [
       "array([ 1100.,  1100.,  1100.,  1100.,  1100.,  1100.,  1100.,  1100.,\n",
       "        1100.,  1100.,  1100.,  1100.,  1100.,  1100.,  1100.,  1100.,\n",
       "        1100.,  1100.,  1100.,  1100.,  1100.,  1100.,  1100.,  1100.,\n",
       "        1100.,  1100.,  1100.,  1100.,  1100.,  1100.,  1100.,  1100.,\n",
       "        1100.,  1100.,  1100.,  1100.,  1100.,  1100.,  1100.,  1100.,\n",
       "        1100.,  1100.,  1100.,  1100.,  1100.,  1100.,  1100.,  1100.,\n",
       "        1100.,  1100.,  1100.,  1100.,  1100.,  1100.,  1100.,  1100.,\n",
       "        1100.,  1100.,  1100.,  1100.,  1100.,  1100.,  1100.,  1100.,\n",
       "        1100.,  1100.,  1100.,  1100.,  1100.,  1100.,  1100.,  1100.,\n",
       "        1100.,  1100.,  1100.,  1100.,  1100.,  1100.,  1100.,  1100.,\n",
       "        1100.,  1100.,  1100.,  1100.,  1100.,  1100.,  1100.,  1100.,\n",
       "        1100.,  1100.,  1100.,  1100.,  1100.,  1100.,  1100.,  1100.,\n",
       "        1100.,  1100.,  1100.,  1100.,  1100.,  1100.,  1100.,  1100.,\n",
       "        1100.,  1100.,  1100.,  1100.,  1100.,  1100.,  1100.,  1100.,\n",
       "        1100.,  1100.,  1100.,  1100.,  1100.,  1100.,  1100.,  1100.,\n",
       "        1100.,  1100.,  1100.,  1100.,  1100.,  1100.,  1100.,  1100.,\n",
       "        1100.,  1100.,  1100.,  1100.,  1100.,  1100.,  1100.,  1100.,\n",
       "        1100.,  1100.,  1100.,  1100.,  1100.,  1100.,  1100.,  1100.,\n",
       "        1100.,  1100.,  1100.,  1100.,  1100.,  1100.,  1100.,  1100.,\n",
       "        1100.,  1100.,  1100.,  1100.,  1100.,  1100.,  1100.,  1100.,\n",
       "        1100.,  1100.,  1100.,  1100.,  1100.,  1100.,  1100.,  1100.,\n",
       "        1100.,  1100.,  1100.,  1100.,  1100.,  1100.,  1100.,  1100.,\n",
       "        1100.,  1100.,  1100.,  1100.,  1100.,  1100.,  1100.,  1100.,\n",
       "        1100.,  1100.,  1100.,  1100.,  1100.,  1100.,  1100.,  1100.,\n",
       "        1100.,  1100.,  1100.,  1100.,  1100.,  1100.,  1100.,  1100.,\n",
       "        1100.,  1100.,  1100.,  1100.,  1100.,  1100.,  1100.,  1100.,\n",
       "        1100.,  1100.,  1100.,  1100.,  1100.,  1100.,  1100.,  1100.,\n",
       "        1100.,  1100.,  1100.,  1100.,  1100.,  1100.,  1100.,  1100.,\n",
       "        1100.,  1100.,  1100.,  1100.,  1100.,  1100.,  1100.,  1100.,\n",
       "        1100.,  1100.,  1100.,  1100.,  1100.,  1100.,  1100.,  1100.,\n",
       "        1100.,  1100.,  1100.,  1100.,  1100.,  1100.,  1100.,  1100.,\n",
       "        1100.,  1100.,  1100.,  1100.,  1100.,  1100.,  1100.,  1100.,\n",
       "        1100.,  1100.,  1100.,  1100.,  1100.,  1100.,  1100.,  1100.,\n",
       "        1100.,  1100.,  1100.,  1100.,  1100.,  1100.,  1100.,  1100.,\n",
       "        1100.,  1100.,  1100.,  1100.,  1100.,  1100.,  1100.,  1100.,\n",
       "        1100.,  1100.,  1100.,  1100.,  1100.,  1100.,  1100.,  1100.,\n",
       "        1100.,  1100.,  1100.,  1100.,  1100.,  1100.,  1100.,  1100.,\n",
       "        1100.,  1100.,  1100.,  1100.,  1100.,  1100.,  1100.,  1100.,\n",
       "        1100.,  1100.,  1100.,  1100.,  1100.,  1100.,  1100.,  1100.,\n",
       "        1100.,  1100.,  1100.,  1100.,  1100.,  1100.,  1100.,  1100.,\n",
       "        1100.,  1100.,  1100.,  1100.,  1100.,  1100.,  1100.,  1100.,\n",
       "        1100.,  1100.,  1100.,  1100.,  1100.,  1100.,  1100.,  1100.,\n",
       "        1100.,  1100.,  1100.,  1100.,  1100.,  1100.,  1100.,  1100.,\n",
       "        1100.,  1100.,  1100.,  1100.,  1100.,  1100.,  1100.,  1100.,\n",
       "        1100.,  1100.,  1100.,  1100.,  1100.,  1100.,  1100.,  1100.,\n",
       "        1100.,  1100.,  1100.,  1100.,  1100.,  1100.,  1100.,  1100.,\n",
       "        1100.,  1100.,  1100.,  1100.,  1100.,  1100.,  1100.,  1100.,\n",
       "        1100.,  1100.,  1100.,  1100.,  1100.,  1100.,  1100.,  1100.,\n",
       "        1100.,  1100.,  1100.,  1100.,  1100.,  1100.,  1100.,  1100.,\n",
       "        1100.,  1100.,  1100.,  1100.,  1100.,  1100.,  1100.,  1100.])"
      ]
     },
     "execution_count": 29,
     "metadata": {},
     "output_type": "execute_result"
    }
   ],
   "source": [
    "yv[110,:]"
   ]
  },
  {
   "cell_type": "code",
   "execution_count": null,
   "metadata": {
    "collapsed": true
   },
   "outputs": [],
   "source": []
  }
 ],
 "metadata": {
  "kernelspec": {
   "display_name": "Python 2",
   "language": "python",
   "name": "python2"
  },
  "language_info": {
   "codemirror_mode": {
    "name": "ipython",
    "version": 2
   },
   "file_extension": ".py",
   "mimetype": "text/x-python",
   "name": "python",
   "nbconvert_exporter": "python",
   "pygments_lexer": "ipython2",
   "version": "2.7.10"
  }
 },
 "nbformat": 4,
 "nbformat_minor": 0
}
