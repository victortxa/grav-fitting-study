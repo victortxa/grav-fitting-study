{
 "cells": [
  {
   "cell_type": "code",
   "execution_count": 136,
   "metadata": {
    "collapsed": true
   },
   "outputs": [],
   "source": [
    "from fatiando.gravmag import normal_gravity\n",
    "from fatiando.vis import mpl\n",
    "import matplotlib.pyplot as plt\n",
    "%matplotlib inline\n",
    "import numpy as np"
   ]
  },
  {
   "cell_type": "code",
   "execution_count": 64,
   "metadata": {
    "collapsed": true
   },
   "outputs": [],
   "source": [
    "from icgem import load_icgem_gdf"
   ]
  },
  {
   "cell_type": "code",
   "execution_count": 76,
   "metadata": {
    "collapsed": false
   },
   "outputs": [],
   "source": [
    "dados = load_icgem_gdf('eigen-6c4-grav-ell2.gdf')"
   ]
  },
  {
   "cell_type": "code",
   "execution_count": 77,
   "metadata": {
    "collapsed": false
   },
   "outputs": [
    {
     "data": {
      "text/plain": [
       "{'area': [-14.681837, -14.671837, 319.088837, 324.153837],\n",
       " 'gravity_ell': array([ 976813.89841636,  976814.60924932,  976815.3324105 , ...,\n",
       "         976805.34993053,  976805.39971343,  976805.44432356]),\n",
       " 'height': array([ 5000.,  5000.,  5000., ...,  5000.,  5000.,  5000.]),\n",
       " 'latitude': array([-14.6818, -14.6818, -14.6818, ..., -14.6718, -14.6718, -14.6718]),\n",
       " 'longitude': array([ 319.0888,  319.0938,  319.0988, ...,  324.1438,  324.1488,\n",
       "         324.1538]),\n",
       " 'metadata': 'generating_institute     gfz-potsdam\\n     generating_date     2015/10/16\\n        product_type     gravity_field\\n                body     earth\\n           modelname     eigen-6c4\\n     max_used_degree          2190\\n         tide_system     tide_free\\n          functional     gravity_ell  (centrifugal term included)\\n                unit     mgal\\n          refsysname     WGS84\\n            gmrefpot      3.98600441800E+14 m**3/s**2\\n        radiusrefpot     6378137.000 m\\n          flatrefpot      3.352810664747480E-03   (1/298.25722356300)\\n         omegarefpot      7.29211500000E-05 1/s\\n       long_lat_unit     degree\\n      latlimit_north      -14.671837000000    \\n      latlimit_south      -14.681837000000    \\n      longlimit_west       319.08883700000    \\n      longlimit_east       324.15383700000    \\n            gridstep      0.50000000000000E-02\\n     height_over_ell       5000.0000 m\\n  latitude_parallels             3\\n longitude_parallels          1014\\nnumber_of_gridpoints          3042\\n            gapvalue        9999999.0000\\n       weighted_mean      9.7680823E+05 mgal\\n            maxvalue      9.7685777E+05 mgal\\n            minvalue      9.7677837E+05 mgal\\n         signal_wrms      2.2533997E+01 mgal\\n         grid_format     long_lat_value\\n \\n          longitude    latitude    gravity_ell\\n            [deg.]      [deg.]         [mgal]\\n',\n",
       " 'shape': (3, 1014)}"
      ]
     },
     "execution_count": 77,
     "metadata": {},
     "output_type": "execute_result"
    }
   ],
   "source": [
    "dados"
   ]
  },
  {
   "cell_type": "code",
   "execution_count": 73,
   "metadata": {
    "collapsed": false
   },
   "outputs": [],
   "source": [
    "lon, lat, height, gravity = dados['longitude'], dados['latitude'], dados['height'], dados['gravity_ell']"
   ]
  },
  {
   "cell_type": "code",
   "execution_count": 84,
   "metadata": {
    "collapsed": false
   },
   "outputs": [
    {
     "data": {
      "text/plain": [
       "(3042,)"
      ]
     },
     "execution_count": 84,
     "metadata": {},
     "output_type": "execute_result"
    }
   ],
   "source": [
    "height.shape"
   ]
  },
  {
   "cell_type": "code",
   "execution_count": 88,
   "metadata": {
    "collapsed": true
   },
   "outputs": [],
   "source": [
    "dados = load_icgem_gdf('eigen-6c4-topo2.gdf')"
   ]
  },
  {
   "cell_type": "code",
   "execution_count": 89,
   "metadata": {
    "collapsed": false
   },
   "outputs": [
    {
     "data": {
      "text/plain": [
       "{'area': [-14.681837, -14.671837, 319.088837, 324.153837],\n",
       " 'latitude': array([-14.681837, -14.681837, -14.681837, ..., -14.671837, -14.671837,\n",
       "        -14.671837]),\n",
       " 'longitude': array([ 319.088837,  319.093837,  319.098837, ...,  324.143837,\n",
       "         324.148837,  324.153837]),\n",
       " 'metadata': 'generating_institute     gfz-potsdam\\n     generating_date     2015/10/16\\n        product_type     topography\\n                body     earth\\n           modelname     etopo1_bin_int\\n          functional     topography_grd (grid)=>bi-linear interpolation\\n                unit     meter\\n          refsysname     WGS84\\n        radiusrefsys     6378137.000 m\\n          flatrefsys      3.352810664747480E-03   (1/298.25722356300)\\n       long_lat_unit     degree\\n      latlimit_north      -14.671837000000    \\n      latlimit_south      -14.681837000000    \\n      longlimit_west       319.08883700000    \\n      longlimit_east       324.15383700000    \\n            gridstep      0.50000000000000E-02\\n  latitude_parallels             3\\n longitude_parallels          1014\\nnumber_of_gridpoints          3042\\n            gapvalue          99999.0000\\n       weighted_mean     -1.9973294E+03 meter\\n            maxvalue      1.0274059E+03 meter\\n            minvalue     -4.5444927E+03 meter\\n         signal_wrms      2.1595308E+03 meter\\n         grid_format     long_lat_value\\n \\n          longitude    latitude    topography_grd\\n            [deg.]      [deg.]         [meter]\\n',\n",
       " 'shape': (3, 1014),\n",
       " 'topography_grd': array([  846.78,   845.11,   843.45, ..., -4429.35, -4428.06, -4427.46])}"
      ]
     },
     "execution_count": 89,
     "metadata": {},
     "output_type": "execute_result"
    }
   ],
   "source": [
    "dados"
   ]
  },
  {
   "cell_type": "code",
   "execution_count": 90,
   "metadata": {
    "collapsed": true
   },
   "outputs": [],
   "source": [
    "topo = dados['topography_grd']"
   ]
  },
  {
   "cell_type": "code",
   "execution_count": 91,
   "metadata": {
    "collapsed": true
   },
   "outputs": [],
   "source": [
    "# First, lets calculate the gravity disturbance (e.g., the free-air anomaly)\n",
    "# We'll do this using the closed form of the normal gravity for the WGS84\n",
    "# ellipsoid\n",
    "gamma = normal_gravity.gamma_closed_form(lat, height)\n",
    "disturbance = gravity - gamma"
   ]
  },
  {
   "cell_type": "code",
   "execution_count": 92,
   "metadata": {
    "collapsed": false
   },
   "outputs": [],
   "source": [
    "# Now we can remove the effect of the Bouguer plate to obtain the Bouguer\n",
    "# anomaly. We'll use the standard densities of 2.67 g.cm^-3 for crust and 1.04\n",
    "# g.cm^-3 for water.\n",
    "bouguer = disturbance - normal_gravity.bouguer_plate(topo)"
   ]
  },
  {
   "cell_type": "code",
   "execution_count": 128,
   "metadata": {
    "collapsed": true
   },
   "outputs": [],
   "source": [
    "topo_positive = topo[topo >= 0]\n",
    "topo_negative = topo[topo < 0]"
   ]
  },
  {
   "cell_type": "code",
   "execution_count": 129,
   "metadata": {
    "collapsed": true
   },
   "outputs": [],
   "source": [
    "jacobian = np.zeros([len(bouguer),2])\n",
    "jacobian[topo < 0, 0] = topo_negative\n",
    "jacobian[topo >= 0, 1] = topo_positive"
   ]
  },
  {
   "cell_type": "code",
   "execution_count": 130,
   "metadata": {
    "collapsed": true
   },
   "outputs": [],
   "source": [
    "y = bouguer"
   ]
  },
  {
   "cell_type": "code",
   "execution_count": 93,
   "metadata": {
    "collapsed": false
   },
   "outputs": [
    {
     "data": {
      "text/plain": [
       "<matplotlib.text.Text at 0x7fba81282250>"
      ]
     },
     "execution_count": 93,
     "metadata": {},
     "output_type": "execute_result"
    },
    {
     "data": {
      "image/png": "[encoded data removed]",
      "text/plain": [
       "<matplotlib.figure.Figure at 0x7fba811c4b50>"
      ]
     },
     "metadata": {},
     "output_type": "display_data"
    }
   ],
   "source": [
    "plt.figure()\n",
    "plt.plot(topo,bouguer,'.')\n",
    "plt.title('Bouguer x Topografia')\n",
    "plt.xlabel('m')\n",
    "plt.ylabel('Anomalia Bouguer(mgal)')"
   ]
  },
  {
   "cell_type": "markdown",
   "metadata": {},
   "source": [
    "### Cálculo do parâmetro por mínimos quadrados"
   ]
  },
  {
   "cell_type": "code",
   "execution_count": 97,
   "metadata": {
    "collapsed": false
   },
   "outputs": [
    {
     "name": "stdout",
     "output_type": "stream",
     "text": [
      "('a estimado=', array([-0.06052397, -0.09904182]))\n"
     ]
    }
   ],
   "source": [
    "a_est = np.dot(np.dot(np.linalg.inv(np.dot(jacobian.transpose(),jacobian)),jacobian.transpose()),y)\n",
    "print('a estimado=',a_est)"
   ]
  },
  {
   "cell_type": "markdown",
   "metadata": {},
   "source": [
    "### Cálculo do parâmetro por mínimos quadrados reponderado"
   ]
  },
  {
   "cell_type": "code",
   "execution_count": 98,
   "metadata": {
    "collapsed": false
   },
   "outputs": [],
   "source": [
    "result=[]\n",
    "weight = np.eye(len(y),len(y))\n",
    "for i in range(10):\n",
    "    aest = np.dot(np.dot(np.linalg.inv(np.dot(jacobian.transpose(),np.dot(weight,jacobian))),jacobian.transpose()),np.dot(weight,y))\n",
    "    result.append(aest)\n",
    "    weight = np.zeros([len(y),len(y)])\n",
    "    np.fill_diagonal(weight,1./((y - np.dot(jacobian,aest))**2)**0.5)"
   ]
  },
  {
   "cell_type": "code",
   "execution_count": 99,
   "metadata": {
    "collapsed": false
   },
   "outputs": [
    {
     "data": {
      "text/plain": [
       "[array([-0.06052397, -0.09904182]),\n",
       " array([-0.06039787, -0.09902636]),\n",
       " array([-0.06034798, -0.09899385]),\n",
       " array([-0.06032736, -0.0989821 ]),\n",
       " array([-0.06029652, -0.09895742]),\n",
       " array([-0.06027748, -0.09894607]),\n",
       " array([-0.06025869, -0.09892771]),\n",
       " array([-0.06024624, -0.09890362]),\n",
       " array([-0.06024098, -0.09887692]),\n",
       " array([-0.06023305, -0.09884892])]"
      ]
     },
     "execution_count": 99,
     "metadata": {},
     "output_type": "execute_result"
    }
   ],
   "source": [
    "result #primeiro componente corresponde ao locais com height<0 e o outro a height>0"
   ]
  },
  {
   "cell_type": "code",
   "execution_count": 105,
   "metadata": {
    "collapsed": true
   },
   "outputs": [],
   "source": [
    "h_neg = topo_negative*(2.67-1.04)/2.67 #calculo de h_eq\n",
    "h_pos = topo_positive"
   ]
  },
  {
   "cell_type": "code",
   "execution_count": 114,
   "metadata": {
    "collapsed": false
   },
   "outputs": [
    {
     "data": {
      "text/plain": [
       "(1113,)"
      ]
     },
     "execution_count": 114,
     "metadata": {},
     "output_type": "execute_result"
    }
   ],
   "source": [
    "topo_positive.shape"
   ]
  },
  {
   "cell_type": "code",
   "execution_count": 115,
   "metadata": {
    "collapsed": false
   },
   "outputs": [
    {
     "data": {
      "text/plain": [
       "(1929,)"
      ]
     },
     "execution_count": 115,
     "metadata": {},
     "output_type": "execute_result"
    }
   ],
   "source": [
    "topo_negative.shape"
   ]
  },
  {
   "cell_type": "code",
   "execution_count": 100,
   "metadata": {
    "collapsed": true
   },
   "outputs": [],
   "source": [
    "jacobian = np.zeros([len(bouguer),2])\n",
    "jacobian[topo < 0, 0] = h_neg \n",
    "jacobian[topo >= 0, 1] = h_pos"
   ]
  },
  {
   "cell_type": "code",
   "execution_count": 101,
   "metadata": {
    "collapsed": true
   },
   "outputs": [],
   "source": [
    "result=[]\n",
    "weight = np.eye(len(y),len(y))\n",
    "for i in range(10):\n",
    "    aest = np.dot(np.dot(np.linalg.inv(np.dot(jacobian.transpose(),np.dot(weight,jacobian))),jacobian.transpose()),np.dot(weight,y))\n",
    "    result.append(aest)\n",
    "    weight = np.zeros([len(y),len(y)])\n",
    "    np.fill_diagonal(weight,1./((y - np.dot(jacobian,aest))**2)**0.5)"
   ]
  },
  {
   "cell_type": "code",
   "execution_count": 103,
   "metadata": {
    "collapsed": false
   },
   "outputs": [
    {
     "data": {
      "text/plain": [
       "[array([-0.0991405 , -0.09904182]),\n",
       " array([-0.09893394, -0.09902636]),\n",
       " array([-0.09885221, -0.09899385]),\n",
       " array([-0.09881844, -0.0989821 ]),\n",
       " array([-0.09876792, -0.09895742]),\n",
       " array([-0.09873674, -0.09894607]),\n",
       " array([-0.09870596, -0.09892771]),\n",
       " array([-0.09868556, -0.09890362]),\n",
       " array([-0.09867694, -0.09887692]),\n",
       " array([-0.09866396, -0.09884892])]"
      ]
     },
     "execution_count": 103,
     "metadata": {},
     "output_type": "execute_result"
    }
   ],
   "source": [
    "result"
   ]
  },
  {
   "cell_type": "code",
   "execution_count": 140,
   "metadata": {
    "collapsed": false
   },
   "outputs": [],
   "source": [
    "y_calc = np.zeros([len(bouguer)])\n",
    "y_calc[topo < 0] = result[9][0]*h_neg\n",
    "y_calc[topo >= 0] = result[9][1]*h_pos"
   ]
  },
  {
   "cell_type": "code",
   "execution_count": 111,
   "metadata": {
    "collapsed": false
   },
   "outputs": [
    {
     "data": {
      "text/plain": [
       "(1113,)"
      ]
     },
     "execution_count": 111,
     "metadata": {},
     "output_type": "execute_result"
    }
   ],
   "source": [
    "h_pos.shape"
   ]
  },
  {
   "cell_type": "code",
   "execution_count": 112,
   "metadata": {
    "collapsed": false
   },
   "outputs": [
    {
     "data": {
      "text/plain": [
       "3042"
      ]
     },
     "execution_count": 112,
     "metadata": {},
     "output_type": "execute_result"
    }
   ],
   "source": [
    "1113+1929"
   ]
  },
  {
   "cell_type": "code",
   "execution_count": 144,
   "metadata": {
    "collapsed": false
   },
   "outputs": [
    {
     "data": {
      "text/plain": [
       "<matplotlib.legend.Legend at 0x7fba80867d90>"
      ]
     },
     "execution_count": 144,
     "metadata": {},
     "output_type": "execute_result"
    },
    {
     "data": {
      "image/png": "[encoded data removed]",
      "text/plain": [
       "<matplotlib.figure.Figure at 0x7fba808ddad0>"
      ]
     },
     "metadata": {},
     "output_type": "display_data"
    }
   ],
   "source": [
    "plt.figure()\n",
    "plt.plot(topo,bouguer,'.',label='dados originais')\n",
    "plt.plot(topo,y_calc,'.r',label='pelo parametro obtido')\n",
    "plt.title('Bouguer x Topografia')\n",
    "plt.xlabel('m')\n",
    "plt.ylabel('Anomalia Bouguer(mgal)')\n",
    "plt.legend()\n"
   ]
  },
  {
   "cell_type": "code",
   "execution_count": 159,
   "metadata": {
    "collapsed": false
   },
   "outputs": [],
   "source": [
    "topo_cut = topo[topo>-3500.0]\n",
    "topo_positive = topo_cut[topo_cut >= 0]\n",
    "topo_negative = topo_cut[topo_cut < 0]"
   ]
  },
  {
   "cell_type": "code",
   "execution_count": 160,
   "metadata": {
    "collapsed": true
   },
   "outputs": [],
   "source": [
    "h_neg = topo_negative*(2.67-1.04)/2.67 #calculo de h_eq\n",
    "h_pos = topo_positive"
   ]
  },
  {
   "cell_type": "code",
   "execution_count": 162,
   "metadata": {
    "collapsed": true
   },
   "outputs": [],
   "source": [
    "bouguer_cut = bouguer[topo > -3500]"
   ]
  },
  {
   "cell_type": "code",
   "execution_count": 163,
   "metadata": {
    "collapsed": false
   },
   "outputs": [],
   "source": [
    "jacobian = np.zeros([len(bouguer_cut),2])\n",
    "jacobian[topo_cut < 0, 0] = h_neg \n",
    "jacobian[topo_cut >= 0, 1] = h_pos"
   ]
  },
  {
   "cell_type": "code",
   "execution_count": 164,
   "metadata": {
    "collapsed": true
   },
   "outputs": [],
   "source": [
    "y = bouguer_cut"
   ]
  },
  {
   "cell_type": "code",
   "execution_count": 165,
   "metadata": {
    "collapsed": true
   },
   "outputs": [],
   "source": [
    "result=[]\n",
    "weight = np.eye(len(y),len(y))\n",
    "for i in range(10):\n",
    "    aest = np.dot(np.dot(np.linalg.inv(np.dot(jacobian.transpose(),np.dot(weight,jacobian))),jacobian.transpose()),np.dot(weight,y))\n",
    "    result.append(aest)\n",
    "    weight = np.zeros([len(y),len(y)])\n",
    "    np.fill_diagonal(weight,1./((y - np.dot(jacobian,aest))**2)**0.5)"
   ]
  },
  {
   "cell_type": "code",
   "execution_count": 166,
   "metadata": {
    "collapsed": false
   },
   "outputs": [
    {
     "data": {
      "text/plain": [
       "[array([-0.09394483, -0.09904182]),\n",
       " array([-0.09383996, -0.09902636]),\n",
       " array([-0.09373604, -0.09899385]),\n",
       " array([-0.0936452, -0.0989821]),\n",
       " array([-0.09356754, -0.09895742]),\n",
       " array([-0.09349126, -0.09894607]),\n",
       " array([-0.09341634, -0.09892771]),\n",
       " array([-0.09337541, -0.09890362]),\n",
       " array([-0.09331361, -0.09887692]),\n",
       " array([-0.09328012, -0.09884892])]"
      ]
     },
     "execution_count": 166,
     "metadata": {},
     "output_type": "execute_result"
    }
   ],
   "source": [
    "result"
   ]
  },
  {
   "cell_type": "code",
   "execution_count": 167,
   "metadata": {
    "collapsed": true
   },
   "outputs": [],
   "source": [
    "y_calc = np.zeros([len(bouguer_cut)])\n",
    "y_calc[topo_cut < 0] = result[9][0]*h_neg\n",
    "y_calc[topo_cut >= 0] = result[9][1]*h_pos"
   ]
  },
  {
   "cell_type": "markdown",
   "metadata": {},
   "source": [
    "### Height > -3500"
   ]
  },
  {
   "cell_type": "code",
   "execution_count": 168,
   "metadata": {
    "collapsed": false
   },
   "outputs": [
    {
     "data": {
      "text/plain": [
       "<matplotlib.legend.Legend at 0x7fba80c9ff10>"
      ]
     },
     "execution_count": 168,
     "metadata": {},
     "output_type": "execute_result"
    },
    {
     "data": {
      "image/png": "[encoded data removed]",
      "text/plain": [
       "<matplotlib.figure.Figure at 0x7fba80b9ac10>"
      ]
     },
     "metadata": {},
     "output_type": "display_data"
    }
   ],
   "source": [
    "plt.figure()\n",
    "plt.plot(topo_cut,bouguer_cut,'.',label='dados originais')\n",
    "plt.plot(topo_cut,y_calc,'.r',label='pelo parametro obtido')\n",
    "plt.title('Bouguer x Topografia')\n",
    "plt.xlabel('m')\n",
    "plt.ylabel('Anomalia Bouguer(mgal)')\n",
    "plt.legend()\n"
   ]
  },
  {
   "cell_type": "markdown",
   "metadata": {},
   "source": [
    "## Tentando retirar anomalias próximas ao zero (height<-200) e height > -3500."
   ]
  },
  {
   "cell_type": "code",
   "execution_count": 211,
   "metadata": {
    "collapsed": false
   },
   "outputs": [],
   "source": [
    "topo_cut = topo[topo>-3500.0]\n",
    "topo_positive = topo_cut[topo_cut >= 0]\n",
    "topo_negative = topo_cut[(topo_cut < 0) & (topo_cut<-200.)]"
   ]
  },
  {
   "cell_type": "code",
   "execution_count": 214,
   "metadata": {
    "collapsed": true
   },
   "outputs": [],
   "source": [
    "a=np.where((topo>-3500.0) & (topo<-200)),np.where(topo>0)"
   ]
  },
  {
   "cell_type": "code",
   "execution_count": 216,
   "metadata": {
    "collapsed": false
   },
   "outputs": [
    {
     "ename": "IndexError",
     "evalue": "too many indices for array",
     "output_type": "error",
     "traceback": [
      "\u001b[1;31m---------------------------------------------------------------------------\u001b[0m",
      "\u001b[1;31mIndexError\u001b[0m                                Traceback (most recent call last)",
      "\u001b[1;32m<ipython-input-216-aeae5a0237a7>\u001b[0m in \u001b[0;36m<module>\u001b[1;34m()\u001b[0m\n\u001b[1;32m----> 1\u001b[1;33m \u001b[0mtopo_cut\u001b[0m\u001b[1;33m=\u001b[0m\u001b[0mtopo\u001b[0m\u001b[1;33m[\u001b[0m\u001b[0ma\u001b[0m\u001b[1;33m]\u001b[0m\u001b[1;33m\u001b[0m\u001b[0m\n\u001b[0m",
      "\u001b[1;31mIndexError\u001b[0m: too many indices for array"
     ]
    }
   ],
   "source": [
    "topo_cut=topo[a]"
   ]
  },
  {
   "cell_type": "code",
   "execution_count": 203,
   "metadata": {
    "collapsed": true
   },
   "outputs": [],
   "source": [
    "h_neg = topo_negative*(2.67-1.04)/2.67 #calculo de h_eq\n",
    "h_pos = topo_positive"
   ]
  },
  {
   "cell_type": "code",
   "execution_count": 204,
   "metadata": {
    "collapsed": true
   },
   "outputs": [],
   "source": [
    "bouguer_cut = bouguer[(topo > -3500) & (topo<-100.)]"
   ]
  },
  {
   "cell_type": "code",
   "execution_count": 205,
   "metadata": {
    "collapsed": true
   },
   "outputs": [],
   "source": [
    "jacobian = np.zeros([len(bouguer_cut),2])\n",
    "jacobian[topo_cut < 0, 0] = h_neg \n",
    "jacobian[topo_cut >= 0, 1] = h_pos"
   ]
  },
  {
   "cell_type": "code",
   "execution_count": 206,
   "metadata": {
    "collapsed": true
   },
   "outputs": [],
   "source": [
    "y = bouguer_cut"
   ]
  },
  {
   "cell_type": "code",
   "execution_count": 207,
   "metadata": {
    "collapsed": false
   },
   "outputs": [
    {
     "data": {
      "text/plain": [
       "554"
      ]
     },
     "execution_count": 207,
     "metadata": {},
     "output_type": "execute_result"
    }
   ],
   "source": [
    "len(y)"
   ]
  },
  {
   "cell_type": "code",
   "execution_count": 208,
   "metadata": {
    "collapsed": false
   },
   "outputs": [
    {
     "ename": "LinAlgError",
     "evalue": "Singular matrix",
     "output_type": "error",
     "traceback": [
      "\u001b[1;31m---------------------------------------------------------------------------\u001b[0m",
      "\u001b[1;31mLinAlgError\u001b[0m                               Traceback (most recent call last)",
      "\u001b[1;32m<ipython-input-208-a8e5c32b08d9>\u001b[0m in \u001b[0;36m<module>\u001b[1;34m()\u001b[0m\n\u001b[0;32m      2\u001b[0m \u001b[0mweight\u001b[0m \u001b[1;33m=\u001b[0m \u001b[0mnp\u001b[0m\u001b[1;33m.\u001b[0m\u001b[0meye\u001b[0m\u001b[1;33m(\u001b[0m\u001b[0mlen\u001b[0m\u001b[1;33m(\u001b[0m\u001b[0my\u001b[0m\u001b[1;33m)\u001b[0m\u001b[1;33m,\u001b[0m\u001b[0mlen\u001b[0m\u001b[1;33m(\u001b[0m\u001b[0my\u001b[0m\u001b[1;33m)\u001b[0m\u001b[1;33m)\u001b[0m\u001b[1;33m\u001b[0m\u001b[0m\n\u001b[0;32m      3\u001b[0m \u001b[1;32mfor\u001b[0m \u001b[0mi\u001b[0m \u001b[1;32min\u001b[0m \u001b[0mrange\u001b[0m\u001b[1;33m(\u001b[0m\u001b[1;36m10\u001b[0m\u001b[1;33m)\u001b[0m\u001b[1;33m:\u001b[0m\u001b[1;33m\u001b[0m\u001b[0m\n\u001b[1;32m----> 4\u001b[1;33m     \u001b[0maest\u001b[0m \u001b[1;33m=\u001b[0m \u001b[0mnp\u001b[0m\u001b[1;33m.\u001b[0m\u001b[0mdot\u001b[0m\u001b[1;33m(\u001b[0m\u001b[0mnp\u001b[0m\u001b[1;33m.\u001b[0m\u001b[0mdot\u001b[0m\u001b[1;33m(\u001b[0m\u001b[0mnp\u001b[0m\u001b[1;33m.\u001b[0m\u001b[0mlinalg\u001b[0m\u001b[1;33m.\u001b[0m\u001b[0minv\u001b[0m\u001b[1;33m(\u001b[0m\u001b[0mnp\u001b[0m\u001b[1;33m.\u001b[0m\u001b[0mdot\u001b[0m\u001b[1;33m(\u001b[0m\u001b[0mjacobian\u001b[0m\u001b[1;33m.\u001b[0m\u001b[0mtranspose\u001b[0m\u001b[1;33m(\u001b[0m\u001b[1;33m)\u001b[0m\u001b[1;33m,\u001b[0m\u001b[0mnp\u001b[0m\u001b[1;33m.\u001b[0m\u001b[0mdot\u001b[0m\u001b[1;33m(\u001b[0m\u001b[0mweight\u001b[0m\u001b[1;33m,\u001b[0m\u001b[0mjacobian\u001b[0m\u001b[1;33m)\u001b[0m\u001b[1;33m)\u001b[0m\u001b[1;33m)\u001b[0m\u001b[1;33m,\u001b[0m\u001b[0mjacobian\u001b[0m\u001b[1;33m.\u001b[0m\u001b[0mtranspose\u001b[0m\u001b[1;33m(\u001b[0m\u001b[1;33m)\u001b[0m\u001b[1;33m)\u001b[0m\u001b[1;33m,\u001b[0m\u001b[0mnp\u001b[0m\u001b[1;33m.\u001b[0m\u001b[0mdot\u001b[0m\u001b[1;33m(\u001b[0m\u001b[0mweight\u001b[0m\u001b[1;33m,\u001b[0m\u001b[0my\u001b[0m\u001b[1;33m)\u001b[0m\u001b[1;33m)\u001b[0m\u001b[1;33m\u001b[0m\u001b[0m\n\u001b[0m\u001b[0;32m      5\u001b[0m     \u001b[0mresult\u001b[0m\u001b[1;33m.\u001b[0m\u001b[0mappend\u001b[0m\u001b[1;33m(\u001b[0m\u001b[0maest\u001b[0m\u001b[1;33m)\u001b[0m\u001b[1;33m\u001b[0m\u001b[0m\n\u001b[0;32m      6\u001b[0m     \u001b[0mweight\u001b[0m \u001b[1;33m=\u001b[0m \u001b[0mnp\u001b[0m\u001b[1;33m.\u001b[0m\u001b[0mzeros\u001b[0m\u001b[1;33m(\u001b[0m\u001b[1;33m[\u001b[0m\u001b[0mlen\u001b[0m\u001b[1;33m(\u001b[0m\u001b[0my\u001b[0m\u001b[1;33m)\u001b[0m\u001b[1;33m,\u001b[0m\u001b[0mlen\u001b[0m\u001b[1;33m(\u001b[0m\u001b[0my\u001b[0m\u001b[1;33m)\u001b[0m\u001b[1;33m]\u001b[0m\u001b[1;33m)\u001b[0m\u001b[1;33m\u001b[0m\u001b[0m\n",
      "\u001b[1;32m/home/victor/anaconda/lib/python2.7/site-packages/numpy/linalg/linalg.pyc\u001b[0m in \u001b[0;36minv\u001b[1;34m(a)\u001b[0m\n\u001b[0;32m    518\u001b[0m     \u001b[0msignature\u001b[0m \u001b[1;33m=\u001b[0m \u001b[1;34m'D->D'\u001b[0m \u001b[1;32mif\u001b[0m \u001b[0misComplexType\u001b[0m\u001b[1;33m(\u001b[0m\u001b[0mt\u001b[0m\u001b[1;33m)\u001b[0m \u001b[1;32melse\u001b[0m \u001b[1;34m'd->d'\u001b[0m\u001b[1;33m\u001b[0m\u001b[0m\n\u001b[0;32m    519\u001b[0m     \u001b[0mextobj\u001b[0m \u001b[1;33m=\u001b[0m \u001b[0mget_linalg_error_extobj\u001b[0m\u001b[1;33m(\u001b[0m\u001b[0m_raise_linalgerror_singular\u001b[0m\u001b[1;33m)\u001b[0m\u001b[1;33m\u001b[0m\u001b[0m\n\u001b[1;32m--> 520\u001b[1;33m     \u001b[0mainv\u001b[0m \u001b[1;33m=\u001b[0m \u001b[0m_umath_linalg\u001b[0m\u001b[1;33m.\u001b[0m\u001b[0minv\u001b[0m\u001b[1;33m(\u001b[0m\u001b[0ma\u001b[0m\u001b[1;33m,\u001b[0m \u001b[0msignature\u001b[0m\u001b[1;33m=\u001b[0m\u001b[0msignature\u001b[0m\u001b[1;33m,\u001b[0m \u001b[0mextobj\u001b[0m\u001b[1;33m=\u001b[0m\u001b[0mextobj\u001b[0m\u001b[1;33m)\u001b[0m\u001b[1;33m\u001b[0m\u001b[0m\n\u001b[0m\u001b[0;32m    521\u001b[0m     \u001b[1;32mreturn\u001b[0m \u001b[0mwrap\u001b[0m\u001b[1;33m(\u001b[0m\u001b[0mainv\u001b[0m\u001b[1;33m.\u001b[0m\u001b[0mastype\u001b[0m\u001b[1;33m(\u001b[0m\u001b[0mresult_t\u001b[0m\u001b[1;33m)\u001b[0m\u001b[1;33m)\u001b[0m\u001b[1;33m\u001b[0m\u001b[0m\n\u001b[0;32m    522\u001b[0m \u001b[1;33m\u001b[0m\u001b[0m\n",
      "\u001b[1;32m/home/victor/anaconda/lib/python2.7/site-packages/numpy/linalg/linalg.pyc\u001b[0m in \u001b[0;36m_raise_linalgerror_singular\u001b[1;34m(err, flag)\u001b[0m\n\u001b[0;32m     88\u001b[0m \u001b[1;33m\u001b[0m\u001b[0m\n\u001b[0;32m     89\u001b[0m \u001b[1;32mdef\u001b[0m \u001b[0m_raise_linalgerror_singular\u001b[0m\u001b[1;33m(\u001b[0m\u001b[0merr\u001b[0m\u001b[1;33m,\u001b[0m \u001b[0mflag\u001b[0m\u001b[1;33m)\u001b[0m\u001b[1;33m:\u001b[0m\u001b[1;33m\u001b[0m\u001b[0m\n\u001b[1;32m---> 90\u001b[1;33m     \u001b[1;32mraise\u001b[0m \u001b[0mLinAlgError\u001b[0m\u001b[1;33m(\u001b[0m\u001b[1;34m\"Singular matrix\"\u001b[0m\u001b[1;33m)\u001b[0m\u001b[1;33m\u001b[0m\u001b[0m\n\u001b[0m\u001b[0;32m     91\u001b[0m \u001b[1;33m\u001b[0m\u001b[0m\n\u001b[0;32m     92\u001b[0m \u001b[1;32mdef\u001b[0m \u001b[0m_raise_linalgerror_nonposdef\u001b[0m\u001b[1;33m(\u001b[0m\u001b[0merr\u001b[0m\u001b[1;33m,\u001b[0m \u001b[0mflag\u001b[0m\u001b[1;33m)\u001b[0m\u001b[1;33m:\u001b[0m\u001b[1;33m\u001b[0m\u001b[0m\n",
      "\u001b[1;31mLinAlgError\u001b[0m: Singular matrix"
     ]
    }
   ],
   "source": [
    "result=[]\n",
    "weight = np.eye(len(y),len(y))\n",
    "for i in range(10):\n",
    "    aest = np.dot(np.dot(np.linalg.inv(np.dot(jacobian.transpose(),np.dot(weight,jacobian))),jacobian.transpose()),np.dot(weight,y))\n",
    "    result.append(aest)\n",
    "    weight = np.zeros([len(y),len(y)])\n",
    "    np.fill_diagonal(weight,1./((y - np.dot(jacobian,aest))**2)**0.5)"
   ]
  },
  {
   "cell_type": "code",
   "execution_count": 191,
   "metadata": {
    "collapsed": false
   },
   "outputs": [
    {
     "ename": "IndexError",
     "evalue": "list index out of range",
     "output_type": "error",
     "traceback": [
      "\u001b[1;31m---------------------------------------------------------------------------\u001b[0m",
      "\u001b[1;31mIndexError\u001b[0m                                Traceback (most recent call last)",
      "\u001b[1;32m<ipython-input-191-654ca0e6821d>\u001b[0m in \u001b[0;36m<module>\u001b[1;34m()\u001b[0m\n\u001b[0;32m      1\u001b[0m \u001b[0my_calc\u001b[0m \u001b[1;33m=\u001b[0m \u001b[0mnp\u001b[0m\u001b[1;33m.\u001b[0m\u001b[0mzeros\u001b[0m\u001b[1;33m(\u001b[0m\u001b[1;33m[\u001b[0m\u001b[0mlen\u001b[0m\u001b[1;33m(\u001b[0m\u001b[0mbouguer_cut\u001b[0m\u001b[1;33m)\u001b[0m\u001b[1;33m]\u001b[0m\u001b[1;33m)\u001b[0m\u001b[1;33m\u001b[0m\u001b[0m\n\u001b[1;32m----> 2\u001b[1;33m \u001b[0my_calc\u001b[0m\u001b[1;33m[\u001b[0m\u001b[0mtopo_cut\u001b[0m \u001b[1;33m<\u001b[0m \u001b[1;36m0\u001b[0m\u001b[1;33m]\u001b[0m \u001b[1;33m=\u001b[0m \u001b[0mresult\u001b[0m\u001b[1;33m[\u001b[0m\u001b[1;36m9\u001b[0m\u001b[1;33m]\u001b[0m\u001b[1;33m[\u001b[0m\u001b[1;36m0\u001b[0m\u001b[1;33m]\u001b[0m\u001b[1;33m*\u001b[0m\u001b[0mh_neg\u001b[0m\u001b[1;33m\u001b[0m\u001b[0m\n\u001b[0m\u001b[0;32m      3\u001b[0m \u001b[0my_calc\u001b[0m\u001b[1;33m[\u001b[0m\u001b[0mtopo_cut\u001b[0m \u001b[1;33m>=\u001b[0m \u001b[1;36m0\u001b[0m\u001b[1;33m]\u001b[0m \u001b[1;33m=\u001b[0m \u001b[0mresult\u001b[0m\u001b[1;33m[\u001b[0m\u001b[1;36m9\u001b[0m\u001b[1;33m]\u001b[0m\u001b[1;33m[\u001b[0m\u001b[1;36m1\u001b[0m\u001b[1;33m]\u001b[0m\u001b[1;33m*\u001b[0m\u001b[0mh_pos\u001b[0m\u001b[1;33m\u001b[0m\u001b[0m\n",
      "\u001b[1;31mIndexError\u001b[0m: list index out of range"
     ]
    }
   ],
   "source": [
    "y_calc = np.zeros([len(bouguer_cut)])\n",
    "y_calc[topo_cut < 0] = result[9][0]*h_neg\n",
    "y_calc[topo_cut >= 0] = result[9][1]*h_pos"
   ]
  },
  {
   "cell_type": "code",
   "execution_count": 183,
   "metadata": {
    "collapsed": false
   },
   "outputs": [
    {
     "data": {
      "text/plain": [
       "[array([-0.09394483, -0.02493382]),\n",
       " array([-0.09383996, -0.03717757]),\n",
       " array([-0.09373604, -0.04344719]),\n",
       " array([-0.0936452 , -0.05056679]),\n",
       " array([-0.09356754, -0.05650858]),\n",
       " array([-0.09349126, -0.05664682]),\n",
       " array([-0.09341634, -0.05849882]),\n",
       " array([-0.09337541, -0.06213434]),\n",
       " array([-0.09331361, -0.06443709]),\n",
       " array([-0.09328012, -0.0668145 ])]"
      ]
     },
     "execution_count": 183,
     "metadata": {},
     "output_type": "execute_result"
    }
   ],
   "source": [
    "result"
   ]
  },
  {
   "cell_type": "code",
   "execution_count": 184,
   "metadata": {
    "collapsed": false
   },
   "outputs": [
    {
     "data": {
      "text/plain": [
       "<matplotlib.legend.Legend at 0x7fba80c8f690>"
      ]
     },
     "execution_count": 184,
     "metadata": {},
     "output_type": "execute_result"
    },
    {
     "data": {
      "image/png": "[encoded data removed]",
      "text/plain": [
       "<matplotlib.figure.Figure at 0x7fba80f71c90>"
      ]
     },
     "metadata": {},
     "output_type": "display_data"
    }
   ],
   "source": [
    "plt.figure()\n",
    "plt.plot(topo_cut,bouguer_cut,'.',label='dados originais')\n",
    "plt.plot(topo_cut,y_calc,'.r',label='pelo parametro obtido')\n",
    "plt.title('Bouguer x Topografia')\n",
    "plt.xlabel('m')\n",
    "plt.ylabel('Anomalia Bouguer(mgal)')\n",
    "plt.legend()\n"
   ]
  },
  {
   "cell_type": "code",
   "execution_count": null,
   "metadata": {
    "collapsed": true
   },
   "outputs": [],
   "source": []
  }
 ],
 "metadata": {
  "kernelspec": {
   "display_name": "Python 2",
   "language": "python",
   "name": "python2"
  },
  "language_info": {
   "codemirror_mode": {
    "name": "ipython",
    "version": 2
   },
   "file_extension": ".py",
   "mimetype": "text/x-python",
   "name": "python",
   "nbconvert_exporter": "python",
   "pygments_lexer": "ipython2",
   "version": "2.7.10"
  }
 },
 "nbformat": 4,
 "nbformat_minor": 0
}
