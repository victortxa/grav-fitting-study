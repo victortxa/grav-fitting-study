{
 "cells": [
  {
   "cell_type": "code",
   "execution_count": null,
   "metadata": {
    "collapsed": true
   },
   "outputs": [],
   "source": [
    "from fatiando.gravmag import normal_gravity\n",
    "from fatiando.vis import mpl\n",
    "import matplotlib.pyplot as plt\n",
    "import numpy as np"
   ]
  },
  {
   "cell_type": "code",
   "execution_count": null,
   "metadata": {
    "collapsed": true
   },
   "outputs": [],
   "source": [
    "lon, lat, height, gravity = np.loadtxt('eigen-6c4-grav.gdf', skiprows=34,\n",
    "                                       unpack=True)\n",
    "topo = np.loadtxt('eigen-6c4-topo.gdf', skiprows=29, usecols=[-1], unpack=True)\n",
    "shape = (53, 210)\n",
    "\n",
    "area = (lon.min(), lon.max(), lat.min(), lat.max())"
   ]
  },
  {
   "cell_type": "code",
   "execution_count": null,
   "metadata": {
    "collapsed": true
   },
   "outputs": [],
   "source": [
    "# First, lets calculate the gravity disturbance (e.g., the free-air anomaly)\n",
    "# We'll do this using the closed form of the normal gravity for the WGS84\n",
    "# ellipsoid\n",
    "gamma = normal_gravity.gamma_closed_form(lat, height)\n",
    "disturbance = gravity - gamma"
   ]
  },
  {
   "cell_type": "code",
   "execution_count": null,
   "metadata": {
    "collapsed": true
   },
   "outputs": [],
   "source": [
    "# Now we can remove the effect of the Bouguer plate to obtain the Bouguer\n",
    "# anomaly. We'll use the standard densities of 2.67 g.cm^-3 for crust and 1.04\n",
    "# g.cm^-3 for water.\n",
    "bouguer = disturbance - normal_gravity.bouguer_plate(topo)"
   ]
  },
  {
   "cell_type": "code",
   "execution_count": null,
   "metadata": {
    "collapsed": true
   },
   "outputs": [],
   "source": [
    "topo_positive = topo[topo >= 0]\n",
    "topo_negative = topo[topo < 0]"
   ]
  },
  {
   "cell_type": "code",
   "execution_count": null,
   "metadata": {
    "collapsed": true
   },
   "outputs": [],
   "source": [
    "jacobian = np.zeros([len(bouguer),2])\n",
    "jacobian[topo < 0, 0] = topo_negative\n",
    "jacobian[topo >= 0, 1] = topo_positive"
   ]
  },
  {
   "cell_type": "code",
   "execution_count": null,
   "metadata": {
    "collapsed": true
   },
   "outputs": [],
   "source": [
    "y = bouguer"
   ]
  },
  {
   "cell_type": "markdown",
   "metadata": {},
   "source": [
    "### Cálculo do parâmetro por mínimos quadrados"
   ]
  },
  {
   "cell_type": "code",
   "execution_count": null,
   "metadata": {
    "collapsed": true
   },
   "outputs": [],
   "source": [
    "a_est = np.dot(np.dot(np.linalg.inv(np.dot(jacobian.transpose(),jacobian)),jacobian.transpose()),y)\n",
    "print('a estimado=',a_est)"
   ]
  },
  {
   "cell_type": "markdown",
   "metadata": {},
   "source": [
    "### Cálculo do parâmetro por mínimos quadrados reponderado"
   ]
  },
  {
   "cell_type": "code",
   "execution_count": null,
   "metadata": {
    "collapsed": true
   },
   "outputs": [],
   "source": [
    "weight = np.zeros([len(y),len(y)])\n",
    "np.fill_diagonal(weight,1./((y - np.dot(jacobian,a_est))**2)**0.5)"
   ]
  },
  {
   "cell_type": "code",
   "execution_count": null,
   "metadata": {
    "collapsed": true
   },
   "outputs": [],
   "source": [
    "aest=np.dot(np.dot(np.linalg.inv(np.dot(jacobian.transpose(),np.dot(weight,jacobian))),jacobian.transpose()),np.dot(weight,y))\n",
    "print('a estimado reponderado',aest)"
   ]
  }
 ],
 "metadata": {
  "kernelspec": {
   "display_name": "Python 2",
   "language": "python",
   "name": "python2"
  },
  "language_info": {
   "codemirror_mode": {
    "name": "ipython",
    "version": 2
   },
   "file_extension": ".py",
   "mimetype": "text/x-python",
   "name": "python",
   "nbconvert_exporter": "python",
   "pygments_lexer": "ipython2",
   "version": "2.7.10"
  }
 },
 "nbformat": 4,
 "nbformat_minor": 0
}
