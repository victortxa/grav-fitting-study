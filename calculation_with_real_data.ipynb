{
 "cells": [
  {
   "cell_type": "code",
   "execution_count": 57,
   "metadata": {
    "collapsed": true
   },
   "outputs": [],
   "source": [
    "from fatiando.gravmag import normal_gravity\n",
    "from fatiando.vis import mpl\n",
    "import matplotlib.pyplot as plt\n",
    "%matplotlib inline\n",
    "import numpy as np"
   ]
  },
  {
   "cell_type": "code",
   "execution_count": 64,
   "metadata": {
    "collapsed": true
   },
   "outputs": [],
   "source": [
    "from icgem import load_icgem_gdf"
   ]
  },
  {
   "cell_type": "code",
   "execution_count": 76,
   "metadata": {
    "collapsed": false
   },
   "outputs": [],
   "source": [
    "dados = load_icgem_gdf('eigen-6c4-grav-ell2.gdf')\n"
   ]
  },
  {
   "cell_type": "code",
   "execution_count": 77,
   "metadata": {
    "collapsed": false
   },
   "outputs": [
    {
     "data": {
      "text/plain": [
       "{'area': [-14.681837, -14.671837, 319.088837, 324.153837],\n",
       " 'gravity_ell': array([ 976813.89841636,  976814.60924932,  976815.3324105 , ...,\n",
       "         976805.34993053,  976805.39971343,  976805.44432356]),\n",
       " 'height': array([ 5000.,  5000.,  5000., ...,  5000.,  5000.,  5000.]),\n",
       " 'latitude': array([-14.6818, -14.6818, -14.6818, ..., -14.6718, -14.6718, -14.6718]),\n",
       " 'longitude': array([ 319.0888,  319.0938,  319.0988, ...,  324.1438,  324.1488,\n",
       "         324.1538]),\n",
       " 'metadata': 'generating_institute     gfz-potsdam\\n     generating_date     2015/10/16\\n        product_type     gravity_field\\n                body     earth\\n           modelname     eigen-6c4\\n     max_used_degree          2190\\n         tide_system     tide_free\\n          functional     gravity_ell  (centrifugal term included)\\n                unit     mgal\\n          refsysname     WGS84\\n            gmrefpot      3.98600441800E+14 m**3/s**2\\n        radiusrefpot     6378137.000 m\\n          flatrefpot      3.352810664747480E-03   (1/298.25722356300)\\n         omegarefpot      7.29211500000E-05 1/s\\n       long_lat_unit     degree\\n      latlimit_north      -14.671837000000    \\n      latlimit_south      -14.681837000000    \\n      longlimit_west       319.08883700000    \\n      longlimit_east       324.15383700000    \\n            gridstep      0.50000000000000E-02\\n     height_over_ell       5000.0000 m\\n  latitude_parallels             3\\n longitude_parallels          1014\\nnumber_of_gridpoints          3042\\n            gapvalue        9999999.0000\\n       weighted_mean      9.7680823E+05 mgal\\n            maxvalue      9.7685777E+05 mgal\\n            minvalue      9.7677837E+05 mgal\\n         signal_wrms      2.2533997E+01 mgal\\n         grid_format     long_lat_value\\n \\n          longitude    latitude    gravity_ell\\n            [deg.]      [deg.]         [mgal]\\n',\n",
       " 'shape': (3, 1014)}"
      ]
     },
     "execution_count": 77,
     "metadata": {},
     "output_type": "execute_result"
    }
   ],
   "source": [
    "dados"
   ]
  },
  {
   "cell_type": "code",
   "execution_count": 73,
   "metadata": {
    "collapsed": false
   },
   "outputs": [],
   "source": [
    "lon, lat, height, gravity = dados['longitude'], dados['latitude'], dados['height'], dados['gravity_ell']"
   ]
  },
  {
   "cell_type": "code",
   "execution_count": 84,
   "metadata": {
    "collapsed": false
   },
   "outputs": [
    {
     "data": {
      "text/plain": [
       "(3042,)"
      ]
     },
     "execution_count": 84,
     "metadata": {},
     "output_type": "execute_result"
    }
   ],
   "source": [
    "height.shape"
   ]
  },
  {
   "cell_type": "code",
   "execution_count": 88,
   "metadata": {
    "collapsed": true
   },
   "outputs": [],
   "source": [
    "dados = load_icgem_gdf('eigen-6c4-topo2.gdf')"
   ]
  },
  {
   "cell_type": "code",
   "execution_count": 89,
   "metadata": {
    "collapsed": false
   },
   "outputs": [
    {
     "data": {
      "text/plain": [
       "{'area': [-14.681837, -14.671837, 319.088837, 324.153837],\n",
       " 'latitude': array([-14.681837, -14.681837, -14.681837, ..., -14.671837, -14.671837,\n",
       "        -14.671837]),\n",
       " 'longitude': array([ 319.088837,  319.093837,  319.098837, ...,  324.143837,\n",
       "         324.148837,  324.153837]),\n",
       " 'metadata': 'generating_institute     gfz-potsdam\\n     generating_date     2015/10/16\\n        product_type     topography\\n                body     earth\\n           modelname     etopo1_bin_int\\n          functional     topography_grd (grid)=>bi-linear interpolation\\n                unit     meter\\n          refsysname     WGS84\\n        radiusrefsys     6378137.000 m\\n          flatrefsys      3.352810664747480E-03   (1/298.25722356300)\\n       long_lat_unit     degree\\n      latlimit_north      -14.671837000000    \\n      latlimit_south      -14.681837000000    \\n      longlimit_west       319.08883700000    \\n      longlimit_east       324.15383700000    \\n            gridstep      0.50000000000000E-02\\n  latitude_parallels             3\\n longitude_parallels          1014\\nnumber_of_gridpoints          3042\\n            gapvalue          99999.0000\\n       weighted_mean     -1.9973294E+03 meter\\n            maxvalue      1.0274059E+03 meter\\n            minvalue     -4.5444927E+03 meter\\n         signal_wrms      2.1595308E+03 meter\\n         grid_format     long_lat_value\\n \\n          longitude    latitude    topography_grd\\n            [deg.]      [deg.]         [meter]\\n',\n",
       " 'shape': (3, 1014),\n",
       " 'topography_grd': array([  846.78,   845.11,   843.45, ..., -4429.35, -4428.06, -4427.46])}"
      ]
     },
     "execution_count": 89,
     "metadata": {},
     "output_type": "execute_result"
    }
   ],
   "source": [
    "dados"
   ]
  },
  {
   "cell_type": "code",
   "execution_count": 90,
   "metadata": {
    "collapsed": true
   },
   "outputs": [],
   "source": [
    "topo = dados['topography_grd']"
   ]
  },
  {
   "cell_type": "code",
   "execution_count": 63,
   "metadata": {
    "collapsed": false
   },
   "outputs": [
    {
     "ename": "ValueError",
     "evalue": "need more than 3 values to unpack",
     "output_type": "error",
     "traceback": [
      "\u001b[1;31m---------------------------------------------------------------------------\u001b[0m",
      "\u001b[1;31mValueError\u001b[0m                                Traceback (most recent call last)",
      "\u001b[1;32m<ipython-input-63-045f36ab5909>\u001b[0m in \u001b[0;36m<module>\u001b[1;34m()\u001b[0m\n\u001b[0;32m      1\u001b[0m lon, lat, height, gravity = np.loadtxt('eigen-6c4-grav-ell.gdf', skiprows=34,\n\u001b[1;32m----> 2\u001b[1;33m                                        unpack=True)\n\u001b[0m\u001b[0;32m      3\u001b[0m \u001b[0mtopo\u001b[0m \u001b[1;33m=\u001b[0m \u001b[0mnp\u001b[0m\u001b[1;33m.\u001b[0m\u001b[0mloadtxt\u001b[0m\u001b[1;33m(\u001b[0m\u001b[1;34m'eigen-6c4-topo.gdf'\u001b[0m\u001b[1;33m,\u001b[0m \u001b[0mskiprows\u001b[0m\u001b[1;33m=\u001b[0m\u001b[1;36m29\u001b[0m\u001b[1;33m,\u001b[0m \u001b[0musecols\u001b[0m\u001b[1;33m=\u001b[0m\u001b[1;33m[\u001b[0m\u001b[1;33m-\u001b[0m\u001b[1;36m1\u001b[0m\u001b[1;33m]\u001b[0m\u001b[1;33m,\u001b[0m \u001b[0munpack\u001b[0m\u001b[1;33m=\u001b[0m\u001b[0mTrue\u001b[0m\u001b[1;33m)\u001b[0m\u001b[1;33m\u001b[0m\u001b[0m\n\u001b[0;32m      4\u001b[0m \u001b[0mshape\u001b[0m \u001b[1;33m=\u001b[0m \u001b[1;33m(\u001b[0m\u001b[1;36m2\u001b[0m\u001b[1;33m,\u001b[0m \u001b[1;36m1014\u001b[0m\u001b[1;33m)\u001b[0m\u001b[1;33m\u001b[0m\u001b[0m\n\u001b[0;32m      5\u001b[0m \u001b[1;33m\u001b[0m\u001b[0m\n",
      "\u001b[1;31mValueError\u001b[0m: need more than 3 values to unpack"
     ]
    }
   ],
   "source": [
    "\n",
    "lon, lat, height, gravity = np.loadtxt('eigen-6c4-grav-ell.gdf', skiprows=34,\n",
    "                                       unpack=True)\n",
    "topo = np.loadtxt('eigen-6c4-topo.gdf', skiprows=29, usecols=[-1], unpack=True)\n",
    "shape = (2, 1014)\n",
    "\n",
    "area = (lon.min(), lon.max(), lat.min(), lat.max())"
   ]
  },
  {
   "cell_type": "code",
   "execution_count": 91,
   "metadata": {
    "collapsed": true
   },
   "outputs": [],
   "source": [
    "# First, lets calculate the gravity disturbance (e.g., the free-air anomaly)\n",
    "# We'll do this using the closed form of the normal gravity for the WGS84\n",
    "# ellipsoid\n",
    "gamma = normal_gravity.gamma_closed_form(lat, height)\n",
    "disturbance = gravity - gamma"
   ]
  },
  {
   "cell_type": "code",
   "execution_count": 92,
   "metadata": {
    "collapsed": false
   },
   "outputs": [],
   "source": [
    "# Now we can remove the effect of the Bouguer plate to obtain the Bouguer\n",
    "# anomaly. We'll use the standard densities of 2.67 g.cm^-3 for crust and 1.04\n",
    "# g.cm^-3 for water.\n",
    "bouguer = disturbance - normal_gravity.bouguer_plate(topo)"
   ]
  },
  {
   "cell_type": "code",
   "execution_count": 94,
   "metadata": {
    "collapsed": true
   },
   "outputs": [],
   "source": [
    "topo_positive = topo[topo >= 0]\n",
    "topo_negative = topo[topo < 0]"
   ]
  },
  {
   "cell_type": "code",
   "execution_count": 95,
   "metadata": {
    "collapsed": true
   },
   "outputs": [],
   "source": [
    "jacobian = np.zeros([len(bouguer),2])\n",
    "jacobian[topo < 0, 0] = topo_negative\n",
    "jacobian[topo >= 0, 1] = topo_positive"
   ]
  },
  {
   "cell_type": "code",
   "execution_count": 96,
   "metadata": {
    "collapsed": true
   },
   "outputs": [],
   "source": [
    "y = bouguer"
   ]
  },
  {
   "cell_type": "code",
   "execution_count": 93,
   "metadata": {
    "collapsed": false
   },
   "outputs": [
    {
     "data": {
      "text/plain": [
       "<matplotlib.text.Text at 0x7fba81282250>"
      ]
     },
     "execution_count": 93,
     "metadata": {},
     "output_type": "execute_result"
    },
    {
     "data": {
      "image/png": "[encoded data removed]",
      "text/plain": [
       "<matplotlib.figure.Figure at 0x7fba811c4b50>"
      ]
     },
     "metadata": {},
     "output_type": "display_data"
    }
   ],
   "source": [
    "plt.figure()\n",
    "plt.plot(topo,bouguer,'.')\n",
    "plt.title('Bouguer x Topografia')\n",
    "plt.xlabel('m')\n",
    "plt.ylabel('Anomalia Bouguer(mgal)')"
   ]
  },
  {
   "cell_type": "markdown",
   "metadata": {},
   "source": [
    "### Cálculo do parâmetro por mínimos quadrados"
   ]
  },
  {
   "cell_type": "code",
   "execution_count": 97,
   "metadata": {
    "collapsed": false
   },
   "outputs": [
    {
     "name": "stdout",
     "output_type": "stream",
     "text": [
      "('a estimado=', array([-0.06052397, -0.09904182]))\n"
     ]
    }
   ],
   "source": [
    "a_est = np.dot(np.dot(np.linalg.inv(np.dot(jacobian.transpose(),jacobian)),jacobian.transpose()),y)\n",
    "print('a estimado=',a_est)"
   ]
  },
  {
   "cell_type": "markdown",
   "metadata": {},
   "source": [
    "### Cálculo do parâmetro por mínimos quadrados reponderado"
   ]
  },
  {
   "cell_type": "code",
   "execution_count": 98,
   "metadata": {
    "collapsed": false
   },
   "outputs": [],
   "source": [
    "result=[]\n",
    "weight = np.eye(len(y),len(y))\n",
    "for i in range(10):\n",
    "    aest = np.dot(np.dot(np.linalg.inv(np.dot(jacobian.transpose(),np.dot(weight,jacobian))),jacobian.transpose()),np.dot(weight,y))\n",
    "    result.append(aest)\n",
    "    weight = np.zeros([len(y),len(y)])\n",
    "    np.fill_diagonal(weight,1./((y - np.dot(jacobian,aest))**2)**0.5)"
   ]
  },
  {
   "cell_type": "code",
   "execution_count": 99,
   "metadata": {
    "collapsed": false
   },
   "outputs": [
    {
     "data": {
      "text/plain": [
       "[array([-0.06052397, -0.09904182]),\n",
       " array([-0.06039787, -0.09902636]),\n",
       " array([-0.06034798, -0.09899385]),\n",
       " array([-0.06032736, -0.0989821 ]),\n",
       " array([-0.06029652, -0.09895742]),\n",
       " array([-0.06027748, -0.09894607]),\n",
       " array([-0.06025869, -0.09892771]),\n",
       " array([-0.06024624, -0.09890362]),\n",
       " array([-0.06024098, -0.09887692]),\n",
       " array([-0.06023305, -0.09884892])]"
      ]
     },
     "execution_count": 99,
     "metadata": {},
     "output_type": "execute_result"
    }
   ],
   "source": [
    "result"
   ]
  },
  {
   "cell_type": "code",
   "execution_count": null,
   "metadata": {
    "collapsed": true
   },
   "outputs": [],
   "source": []
  }
 ],
 "metadata": {
  "kernelspec": {
   "display_name": "Python 2",
   "language": "python",
   "name": "python2"
  },
  "language_info": {
   "codemirror_mode": {
    "name": "ipython",
    "version": 2
   },
   "file_extension": ".py",
   "mimetype": "text/x-python",
   "name": "python",
   "nbconvert_exporter": "python",
   "pygments_lexer": "ipython2",
   "version": "2.7.10"
  }
 },
 "nbformat": 4,
 "nbformat_minor": 0
}
