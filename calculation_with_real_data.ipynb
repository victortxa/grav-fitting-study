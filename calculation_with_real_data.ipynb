{
 "cells": [
  {
   "cell_type": "code",
   "execution_count": 1,
   "metadata": {
    "collapsed": true
   },
   "outputs": [],
   "source": [
    "from fatiando.gravmag import normal_gravity\n",
    "from fatiando.vis import mpl\n",
    "import matplotlib.pyplot as plt\n",
    "%matplotlib inline\n",
    "import numpy as np"
   ]
  },
  {
   "cell_type": "code",
   "execution_count": 2,
   "metadata": {
    "collapsed": true
   },
   "outputs": [],
   "source": [
    "from icgem import load_icgem_gdf"
   ]
  },
  {
   "cell_type": "code",
   "execution_count": 3,
   "metadata": {
    "collapsed": false
   },
   "outputs": [],
   "source": [
    "dados = load_icgem_gdf('eigen-6c4-grav-ell2.gdf')"
   ]
  },
  {
   "cell_type": "code",
   "execution_count": 4,
   "metadata": {
    "collapsed": false
   },
   "outputs": [
    {
     "data": {
      "text/plain": [
       "{'area': [-14.681837, -14.671837, 319.088837, 324.153837],\n",
       " 'gravity_ell': array([ 976813.89841636,  976814.60924932,  976815.3324105 , ...,\n",
       "         976805.34993053,  976805.39971343,  976805.44432356]),\n",
       " 'height': array([ 5000.,  5000.,  5000., ...,  5000.,  5000.,  5000.]),\n",
       " 'latitude': array([-14.6818, -14.6818, -14.6818, ..., -14.6718, -14.6718, -14.6718]),\n",
       " 'longitude': array([ 319.0888,  319.0938,  319.0988, ...,  324.1438,  324.1488,\n",
       "         324.1538]),\n",
       " 'metadata': 'generating_institute     gfz-potsdam\\n     generating_date     2015/10/16\\n        product_type     gravity_field\\n                body     earth\\n           modelname     eigen-6c4\\n     max_used_degree          2190\\n         tide_system     tide_free\\n          functional     gravity_ell  (centrifugal term included)\\n                unit     mgal\\n          refsysname     WGS84\\n            gmrefpot      3.98600441800E+14 m**3/s**2\\n        radiusrefpot     6378137.000 m\\n          flatrefpot      3.352810664747480E-03   (1/298.25722356300)\\n         omegarefpot      7.29211500000E-05 1/s\\n       long_lat_unit     degree\\n      latlimit_north      -14.671837000000    \\n      latlimit_south      -14.681837000000    \\n      longlimit_west       319.08883700000    \\n      longlimit_east       324.15383700000    \\n            gridstep      0.50000000000000E-02\\n     height_over_ell       5000.0000 m\\n  latitude_parallels             3\\n longitude_parallels          1014\\nnumber_of_gridpoints          3042\\n            gapvalue        9999999.0000\\n       weighted_mean      9.7680823E+05 mgal\\n            maxvalue      9.7685777E+05 mgal\\n            minvalue      9.7677837E+05 mgal\\n         signal_wrms      2.2533997E+01 mgal\\n         grid_format     long_lat_value\\n \\n          longitude    latitude    gravity_ell\\n            [deg.]      [deg.]         [mgal]\\n',\n",
       " 'shape': (3, 1014)}"
      ]
     },
     "execution_count": 4,
     "metadata": {},
     "output_type": "execute_result"
    }
   ],
   "source": [
    "dados"
   ]
  },
  {
   "cell_type": "code",
   "execution_count": 5,
   "metadata": {
    "collapsed": false
   },
   "outputs": [],
   "source": [
    "lon, lat, height, gravity = dados['longitude'], dados['latitude'], dados['height'], dados['gravity_ell']"
   ]
  },
  {
   "cell_type": "code",
   "execution_count": 6,
   "metadata": {
    "collapsed": false
   },
   "outputs": [
    {
     "data": {
      "text/plain": [
       "(3042,)"
      ]
     },
     "execution_count": 6,
     "metadata": {},
     "output_type": "execute_result"
    }
   ],
   "source": [
    "height.shape"
   ]
  },
  {
   "cell_type": "code",
   "execution_count": 7,
   "metadata": {
    "collapsed": true
   },
   "outputs": [],
   "source": [
    "dados = load_icgem_gdf('eigen-6c4-topo2.gdf')"
   ]
  },
  {
   "cell_type": "code",
   "execution_count": 8,
   "metadata": {
    "collapsed": false
   },
   "outputs": [
    {
     "data": {
      "text/plain": [
       "{'area': [-14.681837, -14.671837, 319.088837, 324.153837],\n",
       " 'latitude': array([-14.681837, -14.681837, -14.681837, ..., -14.671837, -14.671837,\n",
       "        -14.671837]),\n",
       " 'longitude': array([ 319.088837,  319.093837,  319.098837, ...,  324.143837,\n",
       "         324.148837,  324.153837]),\n",
       " 'metadata': 'generating_institute     gfz-potsdam\\n     generating_date     2015/10/16\\n        product_type     topography\\n                body     earth\\n           modelname     etopo1_bin_int\\n          functional     topography_grd (grid)=>bi-linear interpolation\\n                unit     meter\\n          refsysname     WGS84\\n        radiusrefsys     6378137.000 m\\n          flatrefsys      3.352810664747480E-03   (1/298.25722356300)\\n       long_lat_unit     degree\\n      latlimit_north      -14.671837000000    \\n      latlimit_south      -14.681837000000    \\n      longlimit_west       319.08883700000    \\n      longlimit_east       324.15383700000    \\n            gridstep      0.50000000000000E-02\\n  latitude_parallels             3\\n longitude_parallels          1014\\nnumber_of_gridpoints          3042\\n            gapvalue          99999.0000\\n       weighted_mean     -1.9973294E+03 meter\\n            maxvalue      1.0274059E+03 meter\\n            minvalue     -4.5444927E+03 meter\\n         signal_wrms      2.1595308E+03 meter\\n         grid_format     long_lat_value\\n \\n          longitude    latitude    topography_grd\\n            [deg.]      [deg.]         [meter]\\n',\n",
       " 'shape': (3, 1014),\n",
       " 'topography_grd': array([  846.78,   845.11,   843.45, ..., -4429.35, -4428.06, -4427.46])}"
      ]
     },
     "execution_count": 8,
     "metadata": {},
     "output_type": "execute_result"
    }
   ],
   "source": [
    "dados"
   ]
  },
  {
   "cell_type": "code",
   "execution_count": 9,
   "metadata": {
    "collapsed": true
   },
   "outputs": [],
   "source": [
    "topo = dados['topography_grd']"
   ]
  },
  {
   "cell_type": "code",
   "execution_count": 10,
   "metadata": {
    "collapsed": true
   },
   "outputs": [],
   "source": [
    "# First, lets calculate the gravity disturbance (e.g., the free-air anomaly)\n",
    "# We'll do this using the closed form of the normal gravity for the WGS84\n",
    "# ellipsoid\n",
    "gamma = normal_gravity.gamma_closed_form(lat, height)\n",
    "disturbance = gravity - gamma"
   ]
  },
  {
   "cell_type": "code",
   "execution_count": 11,
   "metadata": {
    "collapsed": false
   },
   "outputs": [],
   "source": [
    "# Now we can remove the effect of the Bouguer plate to obtain the Bouguer\n",
    "# anomaly. We'll use the standard densities of 2.67 g.cm^-3 for crust and 1.04\n",
    "# g.cm^-3 for water.\n",
    "bouguer = disturbance - normal_gravity.bouguer_plate(topo)"
   ]
  },
  {
   "cell_type": "code",
   "execution_count": 12,
   "metadata": {
    "collapsed": true
   },
   "outputs": [],
   "source": [
    "topo_positive = topo[topo >= 0]\n",
    "topo_negative = topo[topo < 0]"
   ]
  },
  {
   "cell_type": "code",
   "execution_count": 13,
   "metadata": {
    "collapsed": true
   },
   "outputs": [],
   "source": [
    "jacobian = np.zeros([len(bouguer),2])\n",
    "jacobian[topo < 0, 0] = topo_negative\n",
    "jacobian[topo >= 0, 1] = topo_positive"
   ]
  },
  {
   "cell_type": "code",
   "execution_count": 14,
   "metadata": {
    "collapsed": true
   },
   "outputs": [],
   "source": [
    "y = bouguer"
   ]
  },
  {
   "cell_type": "code",
   "execution_count": 15,
   "metadata": {
    "collapsed": false
   },
   "outputs": [
    {
     "data": {
      "text/plain": [
       "<matplotlib.text.Text at 0x7fccf988ed10>"
      ]
     },
     "execution_count": 15,
     "metadata": {},
     "output_type": "execute_result"
    },
    {
     "data": {
      "image/png": "[encoded data removed]",
      "text/plain": [
       "<matplotlib.figure.Figure at 0x7fcd1cc83e50>"
      ]
     },
     "metadata": {},
     "output_type": "display_data"
    }
   ],
   "source": [
    "plt.figure()\n",
    "plt.plot(topo,bouguer,'.')\n",
    "plt.title('Bouguer x Topografia')\n",
    "plt.xlabel('m')\n",
    "plt.ylabel('Anomalia Bouguer(mgal)')"
   ]
  },
  {
   "cell_type": "markdown",
   "metadata": {},
   "source": [
    "### Cálculo do parâmetro por mínimos quadrados"
   ]
  },
  {
   "cell_type": "code",
   "execution_count": 97,
   "metadata": {
    "collapsed": false
   },
   "outputs": [
    {
     "name": "stdout",
     "output_type": "stream",
     "text": [
      "('a estimado=', array([-0.06052397, -0.09904182]))\n"
     ]
    }
   ],
   "source": [
    "a_est = np.dot(np.dot(np.linalg.inv(np.dot(jacobian.transpose(),jacobian)),jacobian.transpose()),y)\n",
    "print('a estimado=',a_est)"
   ]
  },
  {
   "cell_type": "markdown",
   "metadata": {},
   "source": [
    "### Cálculo do parâmetro por mínimos quadrados reponderado"
   ]
  },
  {
   "cell_type": "code",
   "execution_count": 16,
   "metadata": {
    "collapsed": false
   },
   "outputs": [],
   "source": [
    "result=[]\n",
    "weight = np.eye(len(y),len(y))\n",
    "for i in range(10):\n",
    "    aest = np.dot(np.dot(np.linalg.inv(np.dot(jacobian.transpose(),np.dot(weight,jacobian))),jacobian.transpose()),np.dot(weight,y))\n",
    "    result.append(aest)\n",
    "    weight = np.zeros([len(y),len(y)])\n",
    "    np.fill_diagonal(weight,1./((y - np.dot(jacobian,aest))**2)**0.5)"
   ]
  },
  {
   "cell_type": "code",
   "execution_count": 17,
   "metadata": {
    "collapsed": false
   },
   "outputs": [
    {
     "data": {
      "text/plain": [
       "[array([-0.06052397, -0.09904182]),\n",
       " array([-0.06039787, -0.09902636]),\n",
       " array([-0.06034798, -0.09899385]),\n",
       " array([-0.06032736, -0.0989821 ]),\n",
       " array([-0.06029652, -0.09895742]),\n",
       " array([-0.06027748, -0.09894607]),\n",
       " array([-0.06025869, -0.09892771]),\n",
       " array([-0.06024624, -0.09890362]),\n",
       " array([-0.06024098, -0.09887692]),\n",
       " array([-0.06023305, -0.09884892])]"
      ]
     },
     "execution_count": 17,
     "metadata": {},
     "output_type": "execute_result"
    }
   ],
   "source": [
    "result #primeiro componente corresponde ao locais com height<0 e o outro a height>0"
   ]
  },
  {
   "cell_type": "code",
   "execution_count": 19,
   "metadata": {
    "collapsed": false
   },
   "outputs": [],
   "source": [
    "y_calc = np.zeros([len(bouguer)])\n",
    "y_calc[topo < 0] = result[9][0]*topo_negative\n",
    "y_calc[topo >= 0] = result[9][1]*topo_positive"
   ]
  },
  {
   "cell_type": "code",
   "execution_count": 20,
   "metadata": {
    "collapsed": false
   },
   "outputs": [
    {
     "data": {
      "text/plain": [
       "<matplotlib.legend.Legend at 0x7fccf2f78b90>"
      ]
     },
     "execution_count": 20,
     "metadata": {},
     "output_type": "execute_result"
    },
    {
     "data": {
      "image/png": "[encoded data removed]",
      "text/plain": [
       "<matplotlib.figure.Figure at 0x7fccf3046590>"
      ]
     },
     "metadata": {},
     "output_type": "display_data"
    }
   ],
   "source": [
    "plt.figure()\n",
    "plt.plot(topo,bouguer,'.',label='dados originais')\n",
    "plt.plot(topo,y_calc,'.r',label='pelo parametro obtido')\n",
    "plt.title('Bouguer x Topografia')\n",
    "plt.xlabel('m')\n",
    "plt.ylabel('Anomalia Bouguer(mgal)')\n",
    "plt.legend()"
   ]
  },
  {
   "cell_type": "code",
   "execution_count": 21,
   "metadata": {
    "collapsed": true
   },
   "outputs": [],
   "source": [
    "h_neg = topo_negative*(2.67-1.04)/2.67 #calculo de h_eq\n",
    "h_pos = topo_positive"
   ]
  },
  {
   "cell_type": "code",
   "execution_count": 22,
   "metadata": {
    "collapsed": false
   },
   "outputs": [
    {
     "data": {
      "text/plain": [
       "(1113,)"
      ]
     },
     "execution_count": 22,
     "metadata": {},
     "output_type": "execute_result"
    }
   ],
   "source": [
    "topo_positive.shape"
   ]
  },
  {
   "cell_type": "code",
   "execution_count": 23,
   "metadata": {
    "collapsed": false
   },
   "outputs": [
    {
     "data": {
      "text/plain": [
       "(1929,)"
      ]
     },
     "execution_count": 23,
     "metadata": {},
     "output_type": "execute_result"
    }
   ],
   "source": [
    "topo_negative.shape"
   ]
  },
  {
   "cell_type": "code",
   "execution_count": 24,
   "metadata": {
    "collapsed": true
   },
   "outputs": [],
   "source": [
    "jacobian = np.zeros([len(bouguer),2])\n",
    "jacobian[topo < 0, 0] = h_neg \n",
    "jacobian[topo >= 0, 1] = h_pos"
   ]
  },
  {
   "cell_type": "code",
   "execution_count": 25,
   "metadata": {
    "collapsed": true
   },
   "outputs": [],
   "source": [
    "result=[]\n",
    "weight = np.eye(len(y),len(y))\n",
    "for i in range(10):\n",
    "    aest = np.dot(np.dot(np.linalg.inv(np.dot(jacobian.transpose(),np.dot(weight,jacobian))),jacobian.transpose()),np.dot(weight,y))\n",
    "    result.append(aest)\n",
    "    weight = np.zeros([len(y),len(y)])\n",
    "    np.fill_diagonal(weight,1./((y - np.dot(jacobian,aest))**2)**0.5)"
   ]
  },
  {
   "cell_type": "code",
   "execution_count": 26,
   "metadata": {
    "collapsed": false
   },
   "outputs": [
    {
     "data": {
      "text/plain": [
       "[array([-0.0991405 , -0.09904182]),\n",
       " array([-0.09893394, -0.09902636]),\n",
       " array([-0.09885221, -0.09899385]),\n",
       " array([-0.09881844, -0.0989821 ]),\n",
       " array([-0.09876792, -0.09895742]),\n",
       " array([-0.09873674, -0.09894607]),\n",
       " array([-0.09870596, -0.09892771]),\n",
       " array([-0.09868556, -0.09890362]),\n",
       " array([-0.09867694, -0.09887692]),\n",
       " array([-0.09866396, -0.09884892])]"
      ]
     },
     "execution_count": 26,
     "metadata": {},
     "output_type": "execute_result"
    }
   ],
   "source": [
    "result"
   ]
  },
  {
   "cell_type": "code",
   "execution_count": 27,
   "metadata": {
    "collapsed": false
   },
   "outputs": [],
   "source": [
    "y_calc = np.zeros([len(bouguer)])\n",
    "y_calc[topo < 0] = result[9][0]*h_neg\n",
    "y_calc[topo >= 0] = result[9][1]*h_pos"
   ]
  },
  {
   "cell_type": "code",
   "execution_count": 28,
   "metadata": {
    "collapsed": false
   },
   "outputs": [
    {
     "data": {
      "text/plain": [
       "(1113,)"
      ]
     },
     "execution_count": 28,
     "metadata": {},
     "output_type": "execute_result"
    }
   ],
   "source": [
    "h_pos.shape"
   ]
  },
  {
   "cell_type": "code",
   "execution_count": 29,
   "metadata": {
    "collapsed": false
   },
   "outputs": [
    {
     "data": {
      "text/plain": [
       "<matplotlib.legend.Legend at 0x7fccf76e7f10>"
      ]
     },
     "execution_count": 29,
     "metadata": {},
     "output_type": "execute_result"
    },
    {
     "data": {
      "image/png": "[encoded data removed]",
      "text/plain": [
       "<matplotlib.figure.Figure at 0x7fccf304f210>"
      ]
     },
     "metadata": {},
     "output_type": "display_data"
    }
   ],
   "source": [
    "plt.figure()\n",
    "plt.plot(topo,bouguer,'.',label='dados originais')\n",
    "plt.plot(topo,y_calc,'.r',label='pelo parametro obtido')\n",
    "plt.title('Bouguer x h_eq')\n",
    "plt.xlabel('h_eq(m)')\n",
    "plt.ylabel('Anomalia Bouguer(mgal)')\n",
    "plt.legend()\n"
   ]
  },
  {
   "cell_type": "markdown",
   "metadata": {},
   "source": [
    "### Desconsiderando profundidades > 3500 m"
   ]
  },
  {
   "cell_type": "code",
   "execution_count": 30,
   "metadata": {
    "collapsed": false
   },
   "outputs": [],
   "source": [
    "topo_cut = topo[topo>-3500.0]\n",
    "topo_positive = topo_cut[topo_cut >= 0]\n",
    "topo_negative = topo_cut[topo_cut < 0]"
   ]
  },
  {
   "cell_type": "code",
   "execution_count": 32,
   "metadata": {
    "collapsed": true
   },
   "outputs": [],
   "source": [
    "bouguer_cut = bouguer[topo > -3500]"
   ]
  },
  {
   "cell_type": "code",
   "execution_count": 33,
   "metadata": {
    "collapsed": false
   },
   "outputs": [],
   "source": [
    "jacobian = np.zeros([len(bouguer_cut),2])\n",
    "jacobian[topo_cut < 0, 0] = topo_negative\n",
    "jacobian[topo_cut >= 0, 1] = topo_positive"
   ]
  },
  {
   "cell_type": "code",
   "execution_count": 34,
   "metadata": {
    "collapsed": true
   },
   "outputs": [],
   "source": [
    "y = bouguer_cut"
   ]
  },
  {
   "cell_type": "code",
   "execution_count": 35,
   "metadata": {
    "collapsed": true
   },
   "outputs": [],
   "source": [
    "result=[]\n",
    "weight = np.eye(len(y),len(y))\n",
    "for i in range(10):\n",
    "    aest = np.dot(np.dot(np.linalg.inv(np.dot(jacobian.transpose(),np.dot(weight,jacobian))),jacobian.transpose()),np.dot(weight,y))\n",
    "    result.append(aest)\n",
    "    weight = np.zeros([len(y),len(y)])\n",
    "    np.fill_diagonal(weight,1./((y - np.dot(jacobian,aest))**2)**0.5)"
   ]
  },
  {
   "cell_type": "code",
   "execution_count": 36,
   "metadata": {
    "collapsed": false
   },
   "outputs": [
    {
     "data": {
      "text/plain": [
       "[array([-0.05735209, -0.09904182]),\n",
       " array([-0.05728807, -0.09902636]),\n",
       " array([-0.05722462, -0.09899385]),\n",
       " array([-0.05716917, -0.0989821 ]),\n",
       " array([-0.05712175, -0.09895742]),\n",
       " array([-0.05707519, -0.09894607]),\n",
       " array([-0.05702945, -0.09892771]),\n",
       " array([-0.05700446, -0.09890362]),\n",
       " array([-0.05696674, -0.09887692]),\n",
       " array([-0.05694629, -0.09884892])]"
      ]
     },
     "execution_count": 36,
     "metadata": {},
     "output_type": "execute_result"
    }
   ],
   "source": [
    "result"
   ]
  },
  {
   "cell_type": "code",
   "execution_count": 37,
   "metadata": {
    "collapsed": true
   },
   "outputs": [],
   "source": [
    "y_calc = np.zeros([len(bouguer_cut)])\n",
    "y_calc[topo_cut < 0] = result[9][0]*topo_negative\n",
    "y_calc[topo_cut >= 0] = result[9][1]*topo_positive"
   ]
  },
  {
   "cell_type": "markdown",
   "metadata": {},
   "source": [
    "### Height > -3500"
   ]
  },
  {
   "cell_type": "code",
   "execution_count": 38,
   "metadata": {
    "collapsed": false
   },
   "outputs": [
    {
     "data": {
      "text/plain": [
       "<matplotlib.legend.Legend at 0x7fccf758db10>"
      ]
     },
     "execution_count": 38,
     "metadata": {},
     "output_type": "execute_result"
    },
    {
     "data": {
      "image/png": "[encoded data removed]",
      "text/plain": [
       "<matplotlib.figure.Figure at 0x7fccf777c050>"
      ]
     },
     "metadata": {},
     "output_type": "display_data"
    }
   ],
   "source": [
    "plt.figure()\n",
    "plt.plot(topo_cut,bouguer_cut,'.',label='dados originais')\n",
    "plt.plot(topo_cut,y_calc,'.r',label='pelo parametro obtido')\n",
    "plt.title('Bouguer x Topografia')\n",
    "plt.xlabel('m')\n",
    "plt.ylabel('Anomalia Bouguer(mgal)')\n",
    "plt.legend()\n"
   ]
  },
  {
   "cell_type": "markdown",
   "metadata": {},
   "source": [
    "## Tentando retirar anomalias próximas ao zero (height<-200) e height > -3500."
   ]
  },
  {
   "cell_type": "code",
   "execution_count": 144,
   "metadata": {
    "collapsed": false
   },
   "outputs": [],
   "source": [
    "cut = -1000.\n",
    "topo_cut = topo[(topo > -3500) & (topo < cut) | (topo >= 0.)]\n",
    "topo_positive = topo_cut[topo_cut >= 0]\n",
    "topo_negative = topo_cut[(topo_cut < cut)]"
   ]
  },
  {
   "cell_type": "code",
   "execution_count": 145,
   "metadata": {
    "collapsed": false
   },
   "outputs": [
    {
     "data": {
      "text/plain": [
       "(1625,)"
      ]
     },
     "execution_count": 145,
     "metadata": {},
     "output_type": "execute_result"
    }
   ],
   "source": [
    "topo_cut.shape"
   ]
  },
  {
   "cell_type": "code",
   "execution_count": 146,
   "metadata": {
    "collapsed": false
   },
   "outputs": [
    {
     "data": {
      "text/plain": [
       "(512,)"
      ]
     },
     "execution_count": 146,
     "metadata": {},
     "output_type": "execute_result"
    }
   ],
   "source": [
    "topo_negative.shape"
   ]
  },
  {
   "cell_type": "code",
   "execution_count": 147,
   "metadata": {
    "collapsed": false
   },
   "outputs": [
    {
     "data": {
      "text/plain": [
       "(1113,)"
      ]
     },
     "execution_count": 147,
     "metadata": {},
     "output_type": "execute_result"
    }
   ],
   "source": [
    "topo_positive.shape"
   ]
  },
  {
   "cell_type": "code",
   "execution_count": 203,
   "metadata": {
    "collapsed": true
   },
   "outputs": [],
   "source": [
    "# não mais necessário\n",
    "h_neg = topo_negative*(2.67-1.04)/2.67 #calculo de h_eq\n",
    "h_pos = topo_positive"
   ]
  },
  {
   "cell_type": "code",
   "execution_count": 148,
   "metadata": {
    "collapsed": false
   },
   "outputs": [],
   "source": [
    "bouguer_cut = bouguer[(topo > -3500) & (topo < cut) | (topo>=0.)]"
   ]
  },
  {
   "cell_type": "code",
   "execution_count": 149,
   "metadata": {
    "collapsed": false
   },
   "outputs": [],
   "source": [
    "jacobian = np.zeros([len(bouguer_cut),2])\n",
    "jacobian[topo_cut < cut, 0] = topo_negative\n",
    "jacobian[topo_cut >= 0, 1] = topo_positive"
   ]
  },
  {
   "cell_type": "code",
   "execution_count": 150,
   "metadata": {
    "collapsed": true
   },
   "outputs": [],
   "source": [
    "y = bouguer_cut"
   ]
  },
  {
   "cell_type": "code",
   "execution_count": 207,
   "metadata": {
    "collapsed": false
   },
   "outputs": [
    {
     "data": {
      "text/plain": [
       "554"
      ]
     },
     "execution_count": 207,
     "metadata": {},
     "output_type": "execute_result"
    }
   ],
   "source": [
    "len(y)"
   ]
  },
  {
   "cell_type": "code",
   "execution_count": 151,
   "metadata": {
    "collapsed": false
   },
   "outputs": [],
   "source": [
    "result=[]\n",
    "weight = np.eye(len(y),len(y))\n",
    "for i in range(10):\n",
    "    aest = np.dot(np.dot(np.linalg.inv(np.dot(jacobian.transpose(),np.dot(weight,jacobian))),jacobian.transpose()),np.dot(weight,y))\n",
    "    result.append(aest)\n",
    "    weight = np.zeros([len(y),len(y)])\n",
    "    np.fill_diagonal(weight,1./((y - np.dot(jacobian,aest))**2)**0.5)"
   ]
  },
  {
   "cell_type": "code",
   "execution_count": 152,
   "metadata": {
    "collapsed": false
   },
   "outputs": [],
   "source": [
    "x = np.arange(-3500.,1001,1)\n",
    "y_calc = np.zeros([len(x)])\n",
    "\n",
    "y_calc[0:3500] = result[9][0]*np.arange(-3500.,0,1)\n",
    "y_calc[3500:4501] = result[9][1]*np.arange(0.,1001,1)"
   ]
  },
  {
   "cell_type": "code",
   "execution_count": 153,
   "metadata": {
    "collapsed": false
   },
   "outputs": [
    {
     "data": {
      "text/plain": [
       "[array([-0.05724661, -0.09904182]),\n",
       " array([-0.05718609, -0.09902636]),\n",
       " array([-0.05712875, -0.09899385]),\n",
       " array([-0.05708005, -0.0989821 ]),\n",
       " array([-0.0570242 , -0.09895742]),\n",
       " array([-0.05698765, -0.09894607]),\n",
       " array([-0.05695824, -0.09892771]),\n",
       " array([-0.05694209, -0.09890362]),\n",
       " array([-0.05690389, -0.09887692]),\n",
       " array([-0.05687625, -0.09884892])]"
      ]
     },
     "execution_count": 153,
     "metadata": {},
     "output_type": "execute_result"
    }
   ],
   "source": [
    "result"
   ]
  },
  {
   "cell_type": "code",
   "execution_count": 155,
   "metadata": {
    "collapsed": false
   },
   "outputs": [
    {
     "data": {
      "text/plain": [
       "<matplotlib.legend.Legend at 0x7fccf72302d0>"
      ]
     },
     "execution_count": 155,
     "metadata": {},
     "output_type": "execute_result"
    },
    {
     "data": {
      "image/png": "[encoded data removed]",
      "text/plain": [
       "<matplotlib.figure.Figure at 0x7fccf7311b50>"
      ]
     },
     "metadata": {},
     "output_type": "display_data"
    }
   ],
   "source": [
    "plt.figure()\n",
    "plt.plot(topo_cut,bouguer_cut,'.',label='dados originais')\n",
    "plt.plot(x,y_calc,'.r',label='pelo parametro obtido')\n",
    "plt.title('Bouguer x Topografia - Exluindo 0 -> -1000')\n",
    "plt.xlabel('m')\n",
    "plt.ylabel('Anomalia Bouguer(mgal)')\n",
    "plt.legend()\n"
   ]
  },
  {
   "cell_type": "code",
   "execution_count": null,
   "metadata": {
    "collapsed": true
   },
   "outputs": [],
   "source": []
  }
 ],
 "metadata": {
  "kernelspec": {
   "display_name": "Python 2",
   "language": "python",
   "name": "python2"
  },
  "language_info": {
   "codemirror_mode": {
    "name": "ipython",
    "version": 2
   },
   "file_extension": ".py",
   "mimetype": "text/x-python",
   "name": "python",
   "nbconvert_exporter": "python",
   "pygments_lexer": "ipython2",
   "version": "2.7.10"
  }
 },
 "nbformat": 4,
 "nbformat_minor": 0
}
